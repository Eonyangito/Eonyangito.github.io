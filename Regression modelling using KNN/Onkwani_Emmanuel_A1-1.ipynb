{
 "cells": [
  {
   "cell_type": "markdown",
   "metadata": {
    "deletable": false,
    "editable": false,
    "run_control": {
     "frozen": true
    }
   },
   "source": [
    "<hr style=\"height:.9px;border:none;color:#333;background-color:#333;\" />\n",
    "<hr style=\"height:.9px;border:none;color:#333;background-color:#333;\" />\n",
    "\n",
    "<br><h2>Kaggle Submission Template</h2>\n",
    "<h4>DAT-5390 | Computational Data Analytics with Python</h4>\n",
    "Chase Kusterer - Faculty of Analytics<br>\n",
    "Hult International Business School<br><br><br>\n",
    "\n",
    "<hr style=\"height:.9px;border:none;color:#333;background-color:#333;\" />\n",
    "<hr style=\"height:.9px;border:none;color:#333;background-color:#333;\" />\n",
    "\n",
    "<br>\n",
    "\n",
    "<h3>The Purpose of the Notebook</h3><br>\n",
    "This Notebook is organized as a template for submitting on Kaggle. It will output a .csv file that can be submitted via Kaggle.<br><br>\n",
    "Remember that you also need to provide an analysis alongside your model building via the assignment link on the course page. Start by conducting your analysis and then copy/paste relevant code to this template (missing value imputation, feature engineering, etc.). Please do not submit this template as your analysis (many of the technical steps are not necessary for the analysis). Finally, on the course page, make sure to submit your analysis and model development as one document in two formats (Jupyter Notebook and a .txt file).\n",
    "<br><br>\n",
    "<hr style=\"height:.9px;border:none;color:#333;background-color:#333;\" />"
   ]
  },
  {
   "cell_type": "markdown",
   "metadata": {
    "deletable": false,
    "editable": false,
    "run_control": {
     "frozen": true
    }
   },
   "source": [
    "<h3>Reminder: Model Analysis Tips</h3><br>\n",
    "<strong>How fit should a model be?</strong><br>\n",
    "As a general heuristic, if the training and testing scores are within 0.05 of each other, the model has not been overfit. Don't worry if the testing score ends up higher than the training score. Some sources claim that in such situations a model is underfit, but this is a general misconception that is beyond the scope of this course. For this course, long as the training and testing scores are within 0.05 of each other, the model is good to go.\n",
    "<br><br>\n",
    "\n",
    "<strong>Which model should I choose?</strong><br>\n",
    "All models have their own benefits and drawbacks. Thus, it is important to test out more than one and to also explore their <a href=\"https://scikit-learn.org/stable/modules/classes.html#classical-linear-regressors\">documentation</a>."
   ]
  },
  {
   "cell_type": "markdown",
   "metadata": {},
   "source": [
    "#  Analysis Introduction\n",
    "\n",
    "Bike rental services has become a day to day activity and its clear that the masses are joining this phenomena that we are witnessing. Various sources of data are indicating the increase of bike rental demand in the country and this stems from either increase in personal health awareness, infrastructure to cater for , affordability of this service and the level of conveniency it comes with.\n",
    "The data available below helps us understand the reason why the industry is key and the need for having a keen eye placed on it. The level of demand  for this service keeps on increasing thus making it very lucrative for a number of reasons. \n",
    "\n",
    "The task at hand is to come up with a ML model \n",
    "The below code helps us dive deep into it as we try understand the best way possible of showing how important and the potential the industry has for growth with the use of KNNeighbors model of regression and other data exploration tools.\n",
    "\n",
    "\n",
    "Base modeling allows us to analyze the different specific data columns and how the relate to each other.In this case using a profound correlation matrix will help us get results that could be fruitful in our analysis of the data.\n",
    "\n",
    "\n",
    "# Data Exploration\n",
    "\n",
    "Normal data needs cleaning before exploration and analysis is done on it to determine the necessary output to be derived from it in this case our data had Visibility(miles) with 76 null values, DewPointTemperature(F) with 67 null values,SolarRadiation(MJ/m2) with 106 null values and RENTALS with 546 null values.\n",
    "\n",
    "In this case we imputed the missing values for Visibility,DewPointTemperature and SolarRadiation using the median value to \n",
    "enable the uniformity of the data in question since the missing values were less compared to the total data from the specific columns. For rentals the missing values would be used in determining the new values to be imputed into those slots.\n",
    "\n",
    "\n",
    "## Feature Engineering ##\n",
    "\n",
    "## Feature One ##\n",
    "\n",
    "The ambient air temperature (Temperature(F)) measures how hot or cold the surrounding air is in degrees Fahrenheit. \n",
    "It indicates the thermal energy present.\n",
    "\n",
    "The dew point temperature (DewPointTemperature(F)) is the temperature at which the air becomes saturated with moisture, \n",
    "at 100% relative humidity. At this point, water vapor in the air condenses into liquid water or dew.\n",
    "\n",
    "The difference between these two temperatures (Temperature_DewPoint_diff) provides information about the moisture content in the air. A smaller difference means the air contains more water vapor and feels more humid. A larger difference indicates drier air.\n",
    "\n",
    "This engineered feature can improve predictive models for various applications impacted by humidity levels. In energy use models, humidity impacts cooling equipment requirements and efficiency. Days with high humidity and high tmeperature isnt fit for bike rentals since the mechanics are prone to be affected while on the other hand people would avoid bike riding in such conditions.\n",
    "\n",
    "\n",
    "## Feature Two ##\n",
    "# Humidity and Temperature Interaction \n",
    "\n",
    "Humidity (Humidity(%)) measures the amount of water vapor present in air as a percentage of the maximum amount that can be held at a given temperature. It indicates how saturated the air is.\n",
    "\n",
    "Temperature (Temperature(F)) reflects the ambient thermal energy, measured in degrees Fahrenheit. Higher values mean hotter air.\n",
    "\n",
    "The interaction between humidity and temperature (Humidity_Temp_interaction) captures their combined effect on outcomes sensitive to climatic conditions. Individually, humidity and temperature may not fully represent their unique impact.\n",
    "\n",
    "For example, perceived heat discomfort is a function of both humidity and temperature.Heat index shows how high the situations get to which on the other hand affect the rate at which bike rentals take place\n",
    "\n",
    "Additionally, high heat and humidity exacerbate pollution and health issues. This feature helps us see how best temperature and humidity\n",
    "\n",
    "\n",
    "\n",
    "## Feature Three ##\n",
    "\n",
    "# Weather Condition\n",
    "\n",
    "Visibility (Visibility(miles)) measures how far one can clearly see, indicating the presence of obstructions like fog, rain, or snow. Higher values mean more unhindered sight.\n",
    "\n",
    "Rainfall (Rainfall(in)) and snowfall (Snowfall(in)) quantify precipitation over a time period in inches. More rain or snow means reduced visibility and wet conditions.\n",
    "\n",
    "The engineered feature Weather_Condition integrates these components by subtracting total precipitation (rain + snow) from visibility.\n",
    "\n",
    "Conceptually, higher Weather_Condition values represent clearer weather with high visibility and minimal rain/snow. Lower values indicate poor visibility with significant precipitation occurring. As stated the forseen element of having poor visibility is key when it comes to rental of bikes \n",
    "\n",
    "\n",
    "\n",
    "# Candidate Model development\n",
    "Throughout the whole progress having explored , cleaned and analyzed my data I decided to use the KNearestNeighbors model. This model is used to evaluate a diverse set of ML algorithms to predict the problem at hand. In this case I went straight to the hyperprarameters where the model looked into each algorithm using randomized search to validate the training set and tune it for predictions. The model splits the data into a 80-20 split to trian and the rest to test it. As i continued I tracked performance to see overrall accuracy using the AUC and ROC precision rate.\n",
    "\n",
    "Given the strong predictive accuracy, interpretability, and ease of implementation, I selected the KNearestNeighbors model  neighbors, uniform weights, and Euclidean distance metric as the best performing option for the deployment system. This combination of algorithms and hyperparameters maximized generalization performance on new unseen data, in my case the prediction capability of KNN was optimal to the data frame\n",
    "\n",
    "\n",
    "\n",
    "# References\n",
    "scikitlearn\n",
    "\n",
    "\n",
    "OpenAI2022/ChatGPT, 2023)"
   ]
  },
  {
   "cell_type": "markdown",
   "metadata": {
    "deletable": false,
    "editable": false,
    "run_control": {
     "frozen": true
    }
   },
   "source": [
    "<hr style=\"height:.9px;border:none;color:#333;background-color:#333;\" /><br>\n",
    "\n",
    "<h2>Part I: Imports and Data Check</h2>"
   ]
  },
  {
   "cell_type": "code",
   "execution_count": 87,
   "metadata": {},
   "outputs": [],
   "source": [
    "## importing libraries ##\n",
    "\n",
    "# for this template\n",
    "import numpy             as np                       # mathematical essentials\n",
    "import pandas            as pd                       # data science essentials\n",
    "import sklearn.linear_model                          # linear models\n",
    "from sklearn.model_selection import train_test_split # train/test split\n",
    "\n",
    "import seaborn as sns                                # enhanced graphical output\n",
    "import matplotlib.pyplot as plt                      # essential graphical output\n",
    "import statsmodels.formula.api as smf                 # predictive modeling\n",
    "#!###############################!#\n",
    "#!# import additional libraries #!#\n",
    "#!###############################!#\n",
    "# import whatever you need\n",
    "\n",
    "from sklearn.preprocessing import StandardScaler  # standard scaler\n",
    "from sklearn.compose import ColumnTransformer     # column transformer\n",
    "from sklearn.neighbors import KNeighborsRegressor # KNN for Regression\n",
    "from sklearn.tree import DecisionTreeRegressor    # intiating decisiontreeregressor\n",
    "from sklearn.model_selection import GridSearchCV  # using gridsearchcv\n",
    "from sklearn.metrics import mean_absolute_error, mean_squared_error, r2_score\n",
    "from sklearn.compose import ColumnTransformer\n",
    "from sklearn.impute import SimpleImputer\n",
    "from sklearn.metrics import mean_squared_error, r2_score\n",
    "from sklearn.linear_model import Ridge\n",
    "from sklearn.model_selection import RandomizedSearchCV  # hyperparameter tuning\n",
    "\n",
    "\n",
    "\n",
    "# setting pandas print options (optional)\n",
    "pd.set_option('display.max_rows', 500)\n",
    "pd.set_option('display.max_columns', 500)\n",
    "pd.set_option('display.width', 1000)"
   ]
  },
  {
   "cell_type": "markdown",
   "metadata": {
    "deletable": false,
    "editable": false,
    "run_control": {
     "frozen": true
    }
   },
   "source": [
    "<br>"
   ]
  },
  {
   "cell_type": "code",
   "execution_count": 2,
   "metadata": {
    "deletable": false,
    "editable": false
   },
   "outputs": [],
   "source": [
    "## importing data ##\n",
    "\n",
    "# reading modeling data into Python\n",
    "modeling_data = './datasets/train.xlsx'\n",
    "\n",
    "# calling this df_train\n",
    "df_train = pd.read_excel(io         = modeling_data,\n",
    "                         sheet_name = 'data',\n",
    "                         header     = 0,\n",
    "                         index_col  = 'ID')\n",
    "\n",
    "\n",
    "\n",
    "# reading testing data into Python\n",
    "testing_data = './datasets/test.xlsx'\n",
    "\n",
    "# calling this df_test\n",
    "df_test = pd.read_excel(io         = testing_data,\n",
    "                        sheet_name = 'data',\n",
    "                        header     = 0,\n",
    "                        index_col  = 'ID')"
   ]
  },
  {
   "cell_type": "markdown",
   "metadata": {
    "deletable": false,
    "editable": false,
    "run_control": {
     "frozen": true
    }
   },
   "source": [
    "<br>"
   ]
  },
  {
   "cell_type": "code",
   "execution_count": 3,
   "metadata": {
    "deletable": false,
    "editable": false
   },
   "outputs": [
    {
     "data": {
      "text/html": [
       "<div>\n",
       "<style scoped>\n",
       "    .dataframe tbody tr th:only-of-type {\n",
       "        vertical-align: middle;\n",
       "    }\n",
       "\n",
       "    .dataframe tbody tr th {\n",
       "        vertical-align: top;\n",
       "    }\n",
       "\n",
       "    .dataframe thead th {\n",
       "        text-align: right;\n",
       "    }\n",
       "</style>\n",
       "<table border=\"1\" class=\"dataframe\">\n",
       "  <thead>\n",
       "    <tr style=\"text-align: right;\">\n",
       "      <th></th>\n",
       "      <th>DateHour</th>\n",
       "      <th>Temperature(F)</th>\n",
       "      <th>Humidity(%)</th>\n",
       "      <th>Wind speed (mph)</th>\n",
       "      <th>Visibility(miles)</th>\n",
       "      <th>DewPointTemperature(F)</th>\n",
       "      <th>Rainfall(in)</th>\n",
       "      <th>Snowfall(in)</th>\n",
       "      <th>SolarRadiation(MJ/m2)</th>\n",
       "      <th>Holiday</th>\n",
       "      <th>FunctioningDay</th>\n",
       "      <th>RENTALS</th>\n",
       "      <th>set</th>\n",
       "    </tr>\n",
       "    <tr>\n",
       "      <th>ID</th>\n",
       "      <th></th>\n",
       "      <th></th>\n",
       "      <th></th>\n",
       "      <th></th>\n",
       "      <th></th>\n",
       "      <th></th>\n",
       "      <th></th>\n",
       "      <th></th>\n",
       "      <th></th>\n",
       "      <th></th>\n",
       "      <th></th>\n",
       "      <th></th>\n",
       "      <th></th>\n",
       "    </tr>\n",
       "  </thead>\n",
       "  <tbody>\n",
       "    <tr>\n",
       "      <th>mb_1039</th>\n",
       "      <td>2023-10-14 05:59:54.810000</td>\n",
       "      <td>52</td>\n",
       "      <td>81</td>\n",
       "      <td>0.4</td>\n",
       "      <td>2.9</td>\n",
       "      <td>46.4</td>\n",
       "      <td>0.0</td>\n",
       "      <td>0.0</td>\n",
       "      <td>0.00</td>\n",
       "      <td>No</td>\n",
       "      <td>Yes</td>\n",
       "      <td>519.0</td>\n",
       "      <td>Not Kaggle</td>\n",
       "    </tr>\n",
       "    <tr>\n",
       "      <th>mb_1330</th>\n",
       "      <td>2023-10-26 08:59:53.355000</td>\n",
       "      <td>51</td>\n",
       "      <td>53</td>\n",
       "      <td>2.2</td>\n",
       "      <td>NaN</td>\n",
       "      <td>35.2</td>\n",
       "      <td>0.0</td>\n",
       "      <td>0.0</td>\n",
       "      <td>1.01</td>\n",
       "      <td>No</td>\n",
       "      <td>Yes</td>\n",
       "      <td>1251.0</td>\n",
       "      <td>Not Kaggle</td>\n",
       "    </tr>\n",
       "    <tr>\n",
       "      <th>mb_551</th>\n",
       "      <td>2023-09-23 21:59:57.250000</td>\n",
       "      <td>56</td>\n",
       "      <td>49</td>\n",
       "      <td>2.5</td>\n",
       "      <td>3.4</td>\n",
       "      <td>38.8</td>\n",
       "      <td>0.0</td>\n",
       "      <td>0.0</td>\n",
       "      <td>0.00</td>\n",
       "      <td>No</td>\n",
       "      <td>Yes</td>\n",
       "      <td>1685.0</td>\n",
       "      <td>Not Kaggle</td>\n",
       "    </tr>\n",
       "    <tr>\n",
       "      <th>mb_2103</th>\n",
       "      <td>2023-12-19 14:00:00</td>\n",
       "      <td>69</td>\n",
       "      <td>32</td>\n",
       "      <td>9.8</td>\n",
       "      <td>12.4</td>\n",
       "      <td>38.7</td>\n",
       "      <td>0.0</td>\n",
       "      <td>0.0</td>\n",
       "      <td>2.36</td>\n",
       "      <td>No</td>\n",
       "      <td>No</td>\n",
       "      <td>0.0</td>\n",
       "      <td>Not Kaggle</td>\n",
       "    </tr>\n",
       "    <tr>\n",
       "      <th>mb_1430</th>\n",
       "      <td>2023-10-30 12:59:52.855000</td>\n",
       "      <td>53</td>\n",
       "      <td>20</td>\n",
       "      <td>2.9</td>\n",
       "      <td>10.8</td>\n",
       "      <td>12.9</td>\n",
       "      <td>0.0</td>\n",
       "      <td>0.0</td>\n",
       "      <td>1.96</td>\n",
       "      <td>No</td>\n",
       "      <td>Yes</td>\n",
       "      <td>814.0</td>\n",
       "      <td>Not Kaggle</td>\n",
       "    </tr>\n",
       "  </tbody>\n",
       "</table>\n",
       "</div>"
      ],
      "text/plain": [
       "                           DateHour  Temperature(F)  Humidity(%)  Wind speed (mph)  Visibility(miles)  DewPointTemperature(F)  Rainfall(in)  Snowfall(in)  SolarRadiation(MJ/m2) Holiday FunctioningDay  RENTALS         set\n",
       "ID                                                                                                                                                                                                                          \n",
       "mb_1039  2023-10-14 05:59:54.810000              52           81               0.4                2.9                    46.4           0.0           0.0                   0.00      No            Yes    519.0  Not Kaggle\n",
       "mb_1330  2023-10-26 08:59:53.355000              51           53               2.2                NaN                    35.2           0.0           0.0                   1.01      No            Yes   1251.0  Not Kaggle\n",
       "mb_551   2023-09-23 21:59:57.250000              56           49               2.5                3.4                    38.8           0.0           0.0                   0.00      No            Yes   1685.0  Not Kaggle\n",
       "mb_2103         2023-12-19 14:00:00              69           32               9.8               12.4                    38.7           0.0           0.0                   2.36      No             No      0.0  Not Kaggle\n",
       "mb_1430  2023-10-30 12:59:52.855000              53           20               2.9               10.8                    12.9           0.0           0.0                   1.96      No            Yes    814.0  Not Kaggle"
      ]
     },
     "execution_count": 3,
     "metadata": {},
     "output_type": "execute_result"
    }
   ],
   "source": [
    "# concatenating datasets together for mv analysis and feature engineering\n",
    "df_train['set'] = 'Not Kaggle'\n",
    "df_test ['set'] = 'Kaggle'\n",
    "\n",
    "# concatenating both datasets together for mv and feature engineering\n",
    "df_full = pd.concat(objs = [df_train, df_test],\n",
    "                    axis = 0,\n",
    "                    ignore_index = False)\n",
    "\n",
    "\n",
    "# checking data\n",
    "df_full.head(n = 5)"
   ]
  },
  {
   "cell_type": "markdown",
   "metadata": {
    "deletable": false,
    "editable": false,
    "run_control": {
     "frozen": true
    }
   },
   "source": [
    "<br>"
   ]
  },
  {
   "cell_type": "code",
   "execution_count": 4,
   "metadata": {
    "deletable": false,
    "editable": false
   },
   "outputs": [
    {
     "data": {
      "text/plain": [
       "Index(['DateHour', 'Temperature(F)', 'Humidity(%)', 'Wind speed (mph)', 'Visibility(miles)', 'DewPointTemperature(F)', 'Rainfall(in)', 'Snowfall(in)', 'SolarRadiation(MJ/m2)', 'Holiday', 'FunctioningDay', 'RENTALS', 'set'], dtype='object')"
      ]
     },
     "execution_count": 4,
     "metadata": {},
     "output_type": "execute_result"
    }
   ],
   "source": [
    "# checking available features\n",
    "df_full.columns"
   ]
  },
  {
   "cell_type": "markdown",
   "metadata": {
    "deletable": false,
    "editable": false,
    "run_control": {
     "frozen": true
    }
   },
   "source": [
    "<br>"
   ]
  },
  {
   "cell_type": "code",
   "execution_count": 5,
   "metadata": {},
   "outputs": [],
   "source": [
    "#!##############################!#\n",
    "#!# set your response variable #!#\n",
    "#!##############################!#\n",
    "y_variable = 'RENTALS' # this should be a string"
   ]
  },
  {
   "cell_type": "code",
   "execution_count": null,
   "metadata": {},
   "outputs": [],
   "source": [
    "Analysis Intro - 5 sentences\n",
    "Exploratory data analysis and data preprocessings 10 sentences\n",
    "feature engineering 5 sentences per feature\n"
   ]
  },
  {
   "cell_type": "markdown",
   "metadata": {
    "deletable": false,
    "editable": false,
    "run_control": {
     "frozen": true
    }
   },
   "source": [
    "<br><hr style=\"height:.9px;border:none;color:#333;background-color:#333;\" /><br>\n",
    "\n",
    "<h2>Part II: Data Preparation</h2><br>\n",
    "Complete the following steps to prepare for model building. Note that you may add or remove steps as you see fit. Please see the assignment description for details on what steps are required for this project.\n",
    "<br><br>\n",
    "<h3>Base Modeling</h3>"
   ]
  },
  {
   "cell_type": "markdown",
   "metadata": {},
   "source": [
    "Base modelling allows us to analyze the different specific data columns and how the relate to each other.In this case using a profound correlation matrix will help us get results that could be fruitful in our analysis of the data."
   ]
  },
  {
   "cell_type": "code",
   "execution_count": 86,
   "metadata": {},
   "outputs": [
    {
     "data": {
      "text/html": [
       "<div>\n",
       "<style scoped>\n",
       "    .dataframe tbody tr th:only-of-type {\n",
       "        vertical-align: middle;\n",
       "    }\n",
       "\n",
       "    .dataframe tbody tr th {\n",
       "        vertical-align: top;\n",
       "    }\n",
       "\n",
       "    .dataframe thead th {\n",
       "        text-align: right;\n",
       "    }\n",
       "</style>\n",
       "<table border=\"1\" class=\"dataframe\">\n",
       "  <thead>\n",
       "    <tr style=\"text-align: right;\">\n",
       "      <th></th>\n",
       "      <th>Temperature(F)</th>\n",
       "      <th>Humidity(%)</th>\n",
       "      <th>Wind speed (mph)</th>\n",
       "      <th>Visibility(miles)</th>\n",
       "      <th>DewPointTemperature(F)</th>\n",
       "      <th>Rainfall(in)</th>\n",
       "      <th>Snowfall(in)</th>\n",
       "      <th>SolarRadiation(MJ/m2)</th>\n",
       "      <th>RENTALS</th>\n",
       "      <th>Year</th>\n",
       "      <th>Month</th>\n",
       "      <th>Weekday</th>\n",
       "      <th>Temperature_DewPoint_diff</th>\n",
       "      <th>Humidity_Temp_interaction</th>\n",
       "      <th>Weather_Condition</th>\n",
       "    </tr>\n",
       "  </thead>\n",
       "  <tbody>\n",
       "    <tr>\n",
       "      <th>Temperature(F)</th>\n",
       "      <td>1.000000</td>\n",
       "      <td>-0.109861</td>\n",
       "      <td>0.214476</td>\n",
       "      <td>-0.169872</td>\n",
       "      <td>0.748228</td>\n",
       "      <td>0.021402</td>\n",
       "      <td>-0.175906</td>\n",
       "      <td>0.405548</td>\n",
       "      <td>0.322811</td>\n",
       "      <td>NaN</td>\n",
       "      <td>-0.338401</td>\n",
       "      <td>0.031886</td>\n",
       "      <td>0.268666</td>\n",
       "      <td>0.487967</td>\n",
       "      <td>-0.168928</td>\n",
       "    </tr>\n",
       "    <tr>\n",
       "      <th>Humidity(%)</th>\n",
       "      <td>-0.109861</td>\n",
       "      <td>1.000000</td>\n",
       "      <td>-0.305569</td>\n",
       "      <td>-0.086079</td>\n",
       "      <td>0.523016</td>\n",
       "      <td>0.244210</td>\n",
       "      <td>0.155144</td>\n",
       "      <td>-0.539417</td>\n",
       "      <td>-0.395309</td>\n",
       "      <td>NaN</td>\n",
       "      <td>-0.150914</td>\n",
       "      <td>0.100778</td>\n",
       "      <td>-0.908215</td>\n",
       "      <td>0.792305</td>\n",
       "      <td>-0.089434</td>\n",
       "    </tr>\n",
       "    <tr>\n",
       "      <th>Wind speed (mph)</th>\n",
       "      <td>0.214476</td>\n",
       "      <td>-0.305569</td>\n",
       "      <td>1.000000</td>\n",
       "      <td>0.072424</td>\n",
       "      <td>-0.007865</td>\n",
       "      <td>0.094221</td>\n",
       "      <td>0.015536</td>\n",
       "      <td>0.355366</td>\n",
       "      <td>0.186261</td>\n",
       "      <td>NaN</td>\n",
       "      <td>-0.022722</td>\n",
       "      <td>-0.024998</td>\n",
       "      <td>0.302034</td>\n",
       "      <td>-0.137737</td>\n",
       "      <td>0.071224</td>\n",
       "    </tr>\n",
       "    <tr>\n",
       "      <th>Visibility(miles)</th>\n",
       "      <td>-0.169872</td>\n",
       "      <td>-0.086079</td>\n",
       "      <td>0.072424</td>\n",
       "      <td>1.000000</td>\n",
       "      <td>-0.197661</td>\n",
       "      <td>-0.092465</td>\n",
       "      <td>-0.052665</td>\n",
       "      <td>-0.001174</td>\n",
       "      <td>-0.007999</td>\n",
       "      <td>NaN</td>\n",
       "      <td>0.067566</td>\n",
       "      <td>-0.057207</td>\n",
       "      <td>0.056803</td>\n",
       "      <td>-0.177906</td>\n",
       "      <td>0.999924</td>\n",
       "    </tr>\n",
       "    <tr>\n",
       "      <th>DewPointTemperature(F)</th>\n",
       "      <td>0.748228</td>\n",
       "      <td>0.523016</td>\n",
       "      <td>-0.007865</td>\n",
       "      <td>-0.197661</td>\n",
       "      <td>1.000000</td>\n",
       "      <td>0.149079</td>\n",
       "      <td>-0.063543</td>\n",
       "      <td>-0.018496</td>\n",
       "      <td>0.030620</td>\n",
       "      <td>NaN</td>\n",
       "      <td>-0.383779</td>\n",
       "      <td>0.078193</td>\n",
       "      <td>-0.438025</td>\n",
       "      <td>0.888706</td>\n",
       "      <td>-0.198663</td>\n",
       "    </tr>\n",
       "    <tr>\n",
       "      <th>Rainfall(in)</th>\n",
       "      <td>0.021402</td>\n",
       "      <td>0.244210</td>\n",
       "      <td>0.094221</td>\n",
       "      <td>-0.092465</td>\n",
       "      <td>0.149079</td>\n",
       "      <td>1.000000</td>\n",
       "      <td>0.071153</td>\n",
       "      <td>-0.070518</td>\n",
       "      <td>-0.145802</td>\n",
       "      <td>NaN</td>\n",
       "      <td>-0.083619</td>\n",
       "      <td>0.067139</td>\n",
       "      <td>-0.187444</td>\n",
       "      <td>0.234921</td>\n",
       "      <td>-0.103529</td>\n",
       "    </tr>\n",
       "    <tr>\n",
       "      <th>Snowfall(in)</th>\n",
       "      <td>-0.175906</td>\n",
       "      <td>0.155144</td>\n",
       "      <td>0.015536</td>\n",
       "      <td>-0.052665</td>\n",
       "      <td>-0.063543</td>\n",
       "      <td>0.071153</td>\n",
       "      <td>1.000000</td>\n",
       "      <td>-0.030606</td>\n",
       "      <td>-0.086884</td>\n",
       "      <td>NaN</td>\n",
       "      <td>0.165921</td>\n",
       "      <td>0.087665</td>\n",
       "      <td>-0.146096</td>\n",
       "      <td>-0.023745</td>\n",
       "      <td>-0.058729</td>\n",
       "    </tr>\n",
       "    <tr>\n",
       "      <th>SolarRadiation(MJ/m2)</th>\n",
       "      <td>0.405548</td>\n",
       "      <td>-0.539417</td>\n",
       "      <td>0.355366</td>\n",
       "      <td>-0.001174</td>\n",
       "      <td>-0.018496</td>\n",
       "      <td>-0.070518</td>\n",
       "      <td>-0.030606</td>\n",
       "      <td>1.000000</td>\n",
       "      <td>0.204991</td>\n",
       "      <td>NaN</td>\n",
       "      <td>-0.040242</td>\n",
       "      <td>0.002616</td>\n",
       "      <td>0.576371</td>\n",
       "      <td>-0.271680</td>\n",
       "      <td>-0.000246</td>\n",
       "    </tr>\n",
       "    <tr>\n",
       "      <th>RENTALS</th>\n",
       "      <td>0.322811</td>\n",
       "      <td>-0.395309</td>\n",
       "      <td>0.186261</td>\n",
       "      <td>-0.007999</td>\n",
       "      <td>0.030620</td>\n",
       "      <td>-0.145802</td>\n",
       "      <td>-0.086884</td>\n",
       "      <td>0.204991</td>\n",
       "      <td>1.000000</td>\n",
       "      <td>NaN</td>\n",
       "      <td>-0.012401</td>\n",
       "      <td>0.096710</td>\n",
       "      <td>0.397655</td>\n",
       "      <td>-0.168299</td>\n",
       "      <td>-0.006010</td>\n",
       "    </tr>\n",
       "    <tr>\n",
       "      <th>Year</th>\n",
       "      <td>NaN</td>\n",
       "      <td>NaN</td>\n",
       "      <td>NaN</td>\n",
       "      <td>NaN</td>\n",
       "      <td>NaN</td>\n",
       "      <td>NaN</td>\n",
       "      <td>NaN</td>\n",
       "      <td>NaN</td>\n",
       "      <td>NaN</td>\n",
       "      <td>NaN</td>\n",
       "      <td>NaN</td>\n",
       "      <td>NaN</td>\n",
       "      <td>NaN</td>\n",
       "      <td>NaN</td>\n",
       "      <td>NaN</td>\n",
       "    </tr>\n",
       "    <tr>\n",
       "      <th>Month</th>\n",
       "      <td>-0.338401</td>\n",
       "      <td>-0.150914</td>\n",
       "      <td>-0.022722</td>\n",
       "      <td>0.067566</td>\n",
       "      <td>-0.383779</td>\n",
       "      <td>-0.083619</td>\n",
       "      <td>0.165921</td>\n",
       "      <td>-0.040242</td>\n",
       "      <td>-0.012401</td>\n",
       "      <td>NaN</td>\n",
       "      <td>1.000000</td>\n",
       "      <td>-0.007315</td>\n",
       "      <td>0.098666</td>\n",
       "      <td>-0.336381</td>\n",
       "      <td>0.067488</td>\n",
       "    </tr>\n",
       "    <tr>\n",
       "      <th>Weekday</th>\n",
       "      <td>0.031886</td>\n",
       "      <td>0.100778</td>\n",
       "      <td>-0.024998</td>\n",
       "      <td>-0.057207</td>\n",
       "      <td>0.078193</td>\n",
       "      <td>0.067139</td>\n",
       "      <td>0.087665</td>\n",
       "      <td>0.002616</td>\n",
       "      <td>0.096710</td>\n",
       "      <td>NaN</td>\n",
       "      <td>-0.007315</td>\n",
       "      <td>1.000000</td>\n",
       "      <td>-0.070322</td>\n",
       "      <td>0.086908</td>\n",
       "      <td>-0.058326</td>\n",
       "    </tr>\n",
       "    <tr>\n",
       "      <th>Temperature_DewPoint_diff</th>\n",
       "      <td>0.268666</td>\n",
       "      <td>-0.908215</td>\n",
       "      <td>0.302034</td>\n",
       "      <td>0.056803</td>\n",
       "      <td>-0.438025</td>\n",
       "      <td>-0.187444</td>\n",
       "      <td>-0.146096</td>\n",
       "      <td>0.576371</td>\n",
       "      <td>0.397655</td>\n",
       "      <td>NaN</td>\n",
       "      <td>0.098666</td>\n",
       "      <td>-0.070322</td>\n",
       "      <td>1.000000</td>\n",
       "      <td>-0.629095</td>\n",
       "      <td>0.059536</td>\n",
       "    </tr>\n",
       "    <tr>\n",
       "      <th>Humidity_Temp_interaction</th>\n",
       "      <td>0.487967</td>\n",
       "      <td>0.792305</td>\n",
       "      <td>-0.137737</td>\n",
       "      <td>-0.177906</td>\n",
       "      <td>0.888706</td>\n",
       "      <td>0.234921</td>\n",
       "      <td>-0.023745</td>\n",
       "      <td>-0.271680</td>\n",
       "      <td>-0.168299</td>\n",
       "      <td>NaN</td>\n",
       "      <td>-0.336381</td>\n",
       "      <td>0.086908</td>\n",
       "      <td>-0.629095</td>\n",
       "      <td>1.000000</td>\n",
       "      <td>-0.180076</td>\n",
       "    </tr>\n",
       "    <tr>\n",
       "      <th>Weather_Condition</th>\n",
       "      <td>-0.168928</td>\n",
       "      <td>-0.089434</td>\n",
       "      <td>0.071224</td>\n",
       "      <td>0.999924</td>\n",
       "      <td>-0.198663</td>\n",
       "      <td>-0.103529</td>\n",
       "      <td>-0.058729</td>\n",
       "      <td>-0.000246</td>\n",
       "      <td>-0.006010</td>\n",
       "      <td>NaN</td>\n",
       "      <td>0.067488</td>\n",
       "      <td>-0.058326</td>\n",
       "      <td>0.059536</td>\n",
       "      <td>-0.180076</td>\n",
       "      <td>1.000000</td>\n",
       "    </tr>\n",
       "  </tbody>\n",
       "</table>\n",
       "</div>"
      ],
      "text/plain": [
       "                           Temperature(F)  Humidity(%)  Wind speed (mph)  Visibility(miles)  DewPointTemperature(F)  Rainfall(in)  Snowfall(in)  SolarRadiation(MJ/m2)   RENTALS  Year     Month   Weekday  Temperature_DewPoint_diff  Humidity_Temp_interaction  Weather_Condition\n",
       "Temperature(F)                   1.000000    -0.109861          0.214476          -0.169872                0.748228      0.021402     -0.175906               0.405548  0.322811   NaN -0.338401  0.031886                   0.268666                   0.487967          -0.168928\n",
       "Humidity(%)                     -0.109861     1.000000         -0.305569          -0.086079                0.523016      0.244210      0.155144              -0.539417 -0.395309   NaN -0.150914  0.100778                  -0.908215                   0.792305          -0.089434\n",
       "Wind speed (mph)                 0.214476    -0.305569          1.000000           0.072424               -0.007865      0.094221      0.015536               0.355366  0.186261   NaN -0.022722 -0.024998                   0.302034                  -0.137737           0.071224\n",
       "Visibility(miles)               -0.169872    -0.086079          0.072424           1.000000               -0.197661     -0.092465     -0.052665              -0.001174 -0.007999   NaN  0.067566 -0.057207                   0.056803                  -0.177906           0.999924\n",
       "DewPointTemperature(F)           0.748228     0.523016         -0.007865          -0.197661                1.000000      0.149079     -0.063543              -0.018496  0.030620   NaN -0.383779  0.078193                  -0.438025                   0.888706          -0.198663\n",
       "Rainfall(in)                     0.021402     0.244210          0.094221          -0.092465                0.149079      1.000000      0.071153              -0.070518 -0.145802   NaN -0.083619  0.067139                  -0.187444                   0.234921          -0.103529\n",
       "Snowfall(in)                    -0.175906     0.155144          0.015536          -0.052665               -0.063543      0.071153      1.000000              -0.030606 -0.086884   NaN  0.165921  0.087665                  -0.146096                  -0.023745          -0.058729\n",
       "SolarRadiation(MJ/m2)            0.405548    -0.539417          0.355366          -0.001174               -0.018496     -0.070518     -0.030606               1.000000  0.204991   NaN -0.040242  0.002616                   0.576371                  -0.271680          -0.000246\n",
       "RENTALS                          0.322811    -0.395309          0.186261          -0.007999                0.030620     -0.145802     -0.086884               0.204991  1.000000   NaN -0.012401  0.096710                   0.397655                  -0.168299          -0.006010\n",
       "Year                                  NaN          NaN               NaN                NaN                     NaN           NaN           NaN                    NaN       NaN   NaN       NaN       NaN                        NaN                        NaN                NaN\n",
       "Month                           -0.338401    -0.150914         -0.022722           0.067566               -0.383779     -0.083619      0.165921              -0.040242 -0.012401   NaN  1.000000 -0.007315                   0.098666                  -0.336381           0.067488\n",
       "Weekday                          0.031886     0.100778         -0.024998          -0.057207                0.078193      0.067139      0.087665               0.002616  0.096710   NaN -0.007315  1.000000                  -0.070322                   0.086908          -0.058326\n",
       "Temperature_DewPoint_diff        0.268666    -0.908215          0.302034           0.056803               -0.438025     -0.187444     -0.146096               0.576371  0.397655   NaN  0.098666 -0.070322                   1.000000                  -0.629095           0.059536\n",
       "Humidity_Temp_interaction        0.487967     0.792305         -0.137737          -0.177906                0.888706      0.234921     -0.023745              -0.271680 -0.168299   NaN -0.336381  0.086908                  -0.629095                   1.000000          -0.180076\n",
       "Weather_Condition               -0.168928    -0.089434          0.071224           0.999924               -0.198663     -0.103529     -0.058729              -0.000246 -0.006010   NaN  0.067488 -0.058326                   0.059536                  -0.180076           1.000000"
      ]
     },
     "execution_count": 86,
     "metadata": {},
     "output_type": "execute_result"
    }
   ],
   "source": [
    "## Base Modeling ##\n",
    "\n",
    "# developing a correlation matrix\n",
    "\n",
    "# Select only numeric columns for correlation calculation\n",
    "numeric_df = df_full.select_dtypes(include=[np.number])\n",
    "\n",
    "df_full_corr = numeric_df.corr(method = 'pearson')\n",
    "\n",
    "\n",
    "# filtering results to show correlations\n",
    "df_full_corr\n"
   ]
  },
  {
   "cell_type": "markdown",
   "metadata": {
    "deletable": false,
    "editable": false,
    "run_control": {
     "frozen": true
    }
   },
   "source": [
    "<br><h3>Missing Value Analysis and Imputation</h3>"
   ]
  },
  {
   "cell_type": "markdown",
   "metadata": {},
   "source": [
    "# Data Exploration\n",
    "\n",
    "Normal data needs cleaning before exploration and analysis is done on it to determine the necessary output to be derived from it in this case our data had Visibility(miles) with 76 null values, DewPointTemperature(F) with 67 null values,SolarRadiation(MJ/m2) with 106 null values and RENTALS with 546 null values.\n",
    "\n",
    "In this case we imputed the missing values for Visibility,DewPointTemperature and SolarRadiation using the median value to \n",
    "enable the uniformity of the data in question since the missing values were less compared to the total data from the specific columns. For rentals the missing values would be used in determining the new values to be imputed into those slots.\n"
   ]
  },
  {
   "cell_type": "code",
   "execution_count": 7,
   "metadata": {},
   "outputs": [
    {
     "data": {
      "text/plain": [
       "DateHour                    0\n",
       "Temperature(F)              0\n",
       "Humidity(%)                 0\n",
       "Wind speed (mph)            0\n",
       "Visibility(miles)          76\n",
       "DewPointTemperature(F)     67\n",
       "Rainfall(in)                0\n",
       "Snowfall(in)                0\n",
       "SolarRadiation(MJ/m2)     106\n",
       "Holiday                     0\n",
       "FunctioningDay              0\n",
       "RENTALS                   546\n",
       "set                         0\n",
       "dtype: int64"
      ]
     },
     "execution_count": 7,
     "metadata": {},
     "output_type": "execute_result"
    }
   ],
   "source": [
    "## Missing Value Imputation ##\n",
    "df_full.isnull().sum()\n"
   ]
  },
  {
   "cell_type": "code",
   "execution_count": 8,
   "metadata": {},
   "outputs": [
    {
     "name": "stdout",
     "output_type": "stream",
     "text": [
      "Visibility(miles)         0\n",
      "DewPointTemperature(F)    0\n",
      "SolarRadiation(MJ/m2)     0\n",
      "dtype: int64\n"
     ]
    }
   ],
   "source": [
    "# Imputation of missing values\n",
    "\n",
    "columns_na = ['Visibility(miles)','DewPointTemperature(F)','SolarRadiation(MJ/m2)']\n",
    "\n",
    "#Replacing the missing values in visibility,dewpoint and solar radiation by the median, univariate imputation.,mn\n",
    "for column in columns_na:\n",
    "    median_value = df_full[column].median()\n",
    "    df_full[column].fillna(median_value,\n",
    "                           inplace = True)\n",
    "    \n",
    "# Checking for proper replacement of NA values\n",
    "print(df_full[columns_na].isnull().sum())"
   ]
  },
  {
   "cell_type": "code",
   "execution_count": 9,
   "metadata": {},
   "outputs": [
    {
     "data": {
      "text/plain": [
       "DateHour                    0\n",
       "Temperature(F)              0\n",
       "Humidity(%)                 0\n",
       "Wind speed (mph)            0\n",
       "Visibility(miles)           0\n",
       "DewPointTemperature(F)      0\n",
       "Rainfall(in)                0\n",
       "Snowfall(in)                0\n",
       "SolarRadiation(MJ/m2)       0\n",
       "Holiday                     0\n",
       "FunctioningDay              0\n",
       "RENTALS                   546\n",
       "set                         0\n",
       "dtype: int64"
      ]
     },
     "execution_count": 9,
     "metadata": {},
     "output_type": "execute_result"
    }
   ],
   "source": [
    "# Checking to see if there's any null values left\n",
    "df_full.isnull().sum()"
   ]
  },
  {
   "cell_type": "code",
   "execution_count": 10,
   "metadata": {},
   "outputs": [
    {
     "name": "stderr",
     "output_type": "stream",
     "text": [
      "C:\\Users\\Hp\\anaconda3\\Lib\\site-packages\\seaborn\\_oldcore.py:1498: FutureWarning: is_categorical_dtype is deprecated and will be removed in a future version. Use isinstance(dtype, CategoricalDtype) instead\n",
      "  if pd.api.types.is_categorical_dtype(vector):\n",
      "C:\\Users\\Hp\\anaconda3\\Lib\\site-packages\\seaborn\\_oldcore.py:1119: FutureWarning: use_inf_as_na option is deprecated and will be removed in a future version. Convert inf values to NaN before operating instead.\n",
      "  with pd.option_context('mode.use_inf_as_na', True):\n"
     ]
    },
    {
     "data": {
      "image/png": "[encoded data removed]",
      "text/plain": [
       "<Figure size 640x480 with 1 Axes>"
      ]
     },
     "metadata": {},
     "output_type": "display_data"
    }
   ],
   "source": [
    "# developing a histogram using HISTPLOT for the rental of bikes\n",
    "sns.histplot(data  = df_full,\n",
    "         x     = 'RENTALS',\n",
    "         kde   = True)\n",
    "\n",
    "\n",
    "# title and axis labels\n",
    "plt.title(label   = \"Distribution of  Bike rentals \")\n",
    "plt.xlabel(xlabel = \"Bike Rentals\") # avoiding using dataset labels\n",
    "plt.ylabel(ylabel = \"Count\")\n",
    "\n",
    "\n",
    "# displaying the histogram\n",
    "plt.show()\n"
   ]
  },
  {
   "cell_type": "code",
   "execution_count": 11,
   "metadata": {},
   "outputs": [
    {
     "name": "stdout",
     "output_type": "stream",
     "text": [
      "<class 'pandas.core.frame.DataFrame'>\n",
      "Index: 2184 entries, mb_1039 to mb_1225\n",
      "Data columns (total 13 columns):\n",
      " #   Column                  Non-Null Count  Dtype  \n",
      "---  ------                  --------------  -----  \n",
      " 0   DateHour                2184 non-null   object \n",
      " 1   Temperature(F)          2184 non-null   int64  \n",
      " 2   Humidity(%)             2184 non-null   int64  \n",
      " 3   Wind speed (mph)        2184 non-null   float64\n",
      " 4   Visibility(miles)       2184 non-null   float64\n",
      " 5   DewPointTemperature(F)  2184 non-null   float64\n",
      " 6   Rainfall(in)            2184 non-null   float64\n",
      " 7   Snowfall(in)            2184 non-null   float64\n",
      " 8   SolarRadiation(MJ/m2)   2184 non-null   float64\n",
      " 9   Holiday                 2184 non-null   object \n",
      " 10  FunctioningDay          2184 non-null   object \n",
      " 11  RENTALS                 1638 non-null   float64\n",
      " 12  set                     2184 non-null   object \n",
      "dtypes: float64(7), int64(2), object(4)\n",
      "memory usage: 303.4+ KB\n"
     ]
    }
   ],
   "source": [
    "# Information summary on the dataframe\n",
    "df_full.info()"
   ]
  },
  {
   "cell_type": "markdown",
   "metadata": {
    "deletable": false,
    "editable": false,
    "run_control": {
     "frozen": true
    }
   },
   "source": [
    "<br><h3>Transformations</h3>"
   ]
  },
  {
   "cell_type": "code",
   "execution_count": 12,
   "metadata": {},
   "outputs": [
    {
     "name": "stderr",
     "output_type": "stream",
     "text": [
      "C:\\Users\\Hp\\anaconda3\\Lib\\site-packages\\seaborn\\_oldcore.py:1498: FutureWarning: is_categorical_dtype is deprecated and will be removed in a future version. Use isinstance(dtype, CategoricalDtype) instead\n",
      "  if pd.api.types.is_categorical_dtype(vector):\n",
      "C:\\Users\\Hp\\anaconda3\\Lib\\site-packages\\seaborn\\_oldcore.py:1119: FutureWarning: use_inf_as_na option is deprecated and will be removed in a future version. Convert inf values to NaN before operating instead.\n",
      "  with pd.option_context('mode.use_inf_as_na', True):\n"
     ]
    },
    {
     "data": {
      "image/png": "[encoded data removed]",
      "text/plain": [
       "<Figure size 640x480 with 1 Axes>"
      ]
     },
     "metadata": {},
     "output_type": "display_data"
    }
   ],
   "source": [
    "## Transformations ##\n",
    "# hisplot showing the distribution of bike rental prices\n",
    "sns.histplot(x = 'RENTALS',\n",
    "            data = df_full,\n",
    "            kde = True)\n",
    "\n",
    "\n",
    "# title and labels\n",
    "plt.title (label  = 'Distribution of Bike Rental Prices')\n",
    "plt.xlabel(xlabel = 'Price')\n",
    "plt.ylabel(ylabel = 'Count')\n",
    "\n",
    "\n",
    "# displaying the plot\n",
    "plt.show()\n"
   ]
  },
  {
   "cell_type": "code",
   "execution_count": 15,
   "metadata": {},
   "outputs": [
    {
     "name": "stderr",
     "output_type": "stream",
     "text": [
      "C:\\Users\\Hp\\AppData\\Local\\Temp\\ipykernel_19620\\1366086176.py:2: UserWarning: The argument 'infer_datetime_format' is deprecated and will be removed in a future version. A strict version of it is now the default, see https://pandas.pydata.org/pdeps/0004-consistent-to-datetime-parsing.html. You can safely remove this argument.\n",
      "  df_full['DateHour'] = pd.to_datetime(df_full['DateHour'], infer_datetime_format= True,format = 'mixed')\n"
     ]
    }
   ],
   "source": [
    "# Transforming  'DateHour' and breaking it down to Year,Month, Weekday and Time\n",
    "df_full['DateHour'] = pd.to_datetime(df_full['DateHour'], infer_datetime_format= True,format = 'mixed')\n",
    " \n",
    "# Separating Year, Month, Weekday, Time\n",
    "df_full['Year'] = df_full['DateHour'].dt.year\n",
    "df_full['Month'] = df_full['DateHour'].dt.month\n",
    "df_full['Weekday'] = df_full['DateHour'].dt.dayofweek \n",
    "df_full['Time'] = df_full['DateHour'].dt.time\n"
   ]
  },
  {
   "cell_type": "markdown",
   "metadata": {
    "deletable": false,
    "editable": false,
    "run_control": {
     "frozen": true
    }
   },
   "source": [
    "<br><h3>Feature Engineering</h3>"
   ]
  },
  {
   "cell_type": "markdown",
   "metadata": {},
   "source": [
    "## Feature Engineering ##\n",
    "\n",
    "## Feature One ##\n",
    "\n",
    "The ambient air temperature (Temperature(F)) measures how hot or cold the surrounding air is in degrees Fahrenheit. \n",
    "It indicates the thermal energy present.\n",
    "\n",
    "The dew point temperature (DewPointTemperature(F)) is the temperature at which the air becomes saturated with moisture, \n",
    "at 100% relative humidity. At this point, water vapor in the air condenses into liquid water or dew.\n",
    "\n",
    "The difference between these two temperatures (Temperature_DewPoint_diff) provides information about the moisture content in the air. A smaller difference means the air contains more water vapor and feels more humid. A larger difference indicates drier air.\n",
    "\n",
    "This engineered feature can improve predictive models for various applications impacted by humidity levels. In energy use models, humidity impacts cooling equipment requirements and efficiency. Days with high humidity and high tmeperature isnt fit for bike rentals since the mechanics are prone to be affected while on the other hand people would avoid bike riding in such conditions.\n",
    "\n"
   ]
  },
  {
   "cell_type": "code",
   "execution_count": null,
   "metadata": {},
   "outputs": [],
   "source": [
    "#Temperature and DewPoint Temperature Difference\n",
    "Temperature_DewPoint_diff = df_full['Temperature(F)'] - df_full['DewPointTemperature(F)']\n",
    "\n",
    "\n",
    "df_full['Temperature_DewPoint_diff'] = Temperature_DewPoint_diff"
   ]
  },
  {
   "cell_type": "code",
   "execution_count": 17,
   "metadata": {},
   "outputs": [
    {
     "data": {
      "text/plain": [
       "ID\n",
       "mb_1039     5.6\n",
       "mb_1330    15.8\n",
       "mb_551     17.2\n",
       "mb_2103    30.3\n",
       "mb_1430    40.1\n",
       "dtype: float64"
      ]
     },
     "execution_count": 17,
     "metadata": {},
     "output_type": "execute_result"
    }
   ],
   "source": [
    "Temperature_DewPoint_diff.head(n=5)"
   ]
  },
  {
   "cell_type": "markdown",
   "metadata": {},
   "source": [
    "## Feature Two ##\n",
    "# Humidity and Temperature Interaction \n",
    "\n",
    "Humidity (Humidity(%)) measures the amount of water vapor present in air as a percentage of the maximum amount that can be held at a given temperature. It indicates how saturated the air is.\n",
    "\n",
    "Temperature (Temperature(F)) reflects the ambient thermal energy, measured in degrees Fahrenheit. Higher values mean hotter air.\n",
    "\n",
    "The interaction between humidity and temperature (Humidity_Temp_interaction) captures their combined effect on outcomes sensitive to climatic conditions. Individually, humidity and temperature may not fully represent their unique impact.\n",
    "\n",
    "For example, perceived heat discomfort is a function of both humidity and temperature.Heat index shows how high the situations get to which on the other hand affect the rate at which bike rentals take place\n",
    "\n",
    "Additionally, high heat and humidity exacerbate pollution and health issues. This feature helps us see how best temperature and humidity \n",
    "\n",
    "\n"
   ]
  },
  {
   "cell_type": "code",
   "execution_count": 18,
   "metadata": {},
   "outputs": [],
   "source": [
    "## Feature Two ##\n",
    "# Humidity and Temperature Interaction \n",
    "Humidity_Temp_interaction = df_full['Humidity(%)'] * df_full['Temperature(F)']\n",
    "\n",
    "\n",
    "\n",
    "df_full['Humidity_Temp_interaction'] = Humidity_Temp_interaction"
   ]
  },
  {
   "cell_type": "code",
   "execution_count": 19,
   "metadata": {},
   "outputs": [
    {
     "data": {
      "text/plain": [
       "ID\n",
       "mb_1039    4212\n",
       "mb_1330    2703\n",
       "mb_551     2744\n",
       "mb_2103    2208\n",
       "mb_1430    1060\n",
       "dtype: int64"
      ]
     },
     "execution_count": 19,
     "metadata": {},
     "output_type": "execute_result"
    }
   ],
   "source": [
    "Humidity_Temp_interaction.head(n=5)"
   ]
  },
  {
   "cell_type": "markdown",
   "metadata": {},
   "source": [
    "## Feature Three ##\n",
    "# Weather Condition\n",
    "\n",
    "Visibility (Visibility(miles)) measures how far one can clearly see, indicating the presence of obstructions like fog, rain, or snow. Higher values mean more unhindered sight.\n",
    "\n",
    "Rainfall (Rainfall(in)) and snowfall (Snowfall(in)) quantify precipitation over a time period in inches. More rain or snow means reduced visibility and wet conditions.\n",
    "\n",
    "The engineered feature Weather_Condition integrates these components by subtracting total precipitation (rain + snow) from visibility.\n",
    "\n",
    "Conceptually, higher Weather_Condition values represent clearer weather with high visibility and minimal rain/snow. Lower values indicate poor visibility with significant precipitation occurring. As stated the forseen element of having poor visibility is key when it comes to rental of bikes \n",
    "\n"
   ]
  },
  {
   "cell_type": "code",
   "execution_count": 20,
   "metadata": {},
   "outputs": [],
   "source": [
    "## Feature Three ##\n",
    "# Weather Condition\n",
    "Weather_Condition = df_full['Visibility(miles)'] - (df_full['Rainfall(in)'] + df_full['Snowfall(in)'])\n",
    "\n",
    "df_full['Weather_Condition'] = Weather_Condition"
   ]
  },
  {
   "cell_type": "code",
   "execution_count": 21,
   "metadata": {},
   "outputs": [
    {
     "data": {
      "text/plain": [
       "ID\n",
       "mb_1039     2.9\n",
       "mb_1330    11.7\n",
       "mb_551      3.4\n",
       "mb_2103    12.4\n",
       "mb_1430    10.8\n",
       "dtype: float64"
      ]
     },
     "execution_count": 21,
     "metadata": {},
     "output_type": "execute_result"
    }
   ],
   "source": [
    "Weather_Condition.head(n=5)"
   ]
  },
  {
   "cell_type": "markdown",
   "metadata": {
    "deletable": false,
    "editable": false,
    "run_control": {
     "frozen": true
    }
   },
   "source": [
    "<br><h3>Standardization</h3>"
   ]
  },
  {
   "cell_type": "code",
   "execution_count": 22,
   "metadata": {},
   "outputs": [],
   "source": [
    "## Standardization ##\n",
    "\n",
    "\n",
    "# preparing explanatory variable data\n",
    "df_full_data   = df_full.drop(['Holiday','FunctioningDay',\n",
    "                               'DateHour'],\n",
    "                                axis = 1)\n"
   ]
  },
  {
   "cell_type": "code",
   "execution_count": 23,
   "metadata": {},
   "outputs": [
    {
     "data": {
      "text/html": [
       "<div>\n",
       "<style scoped>\n",
       "    .dataframe tbody tr th:only-of-type {\n",
       "        vertical-align: middle;\n",
       "    }\n",
       "\n",
       "    .dataframe tbody tr th {\n",
       "        vertical-align: top;\n",
       "    }\n",
       "\n",
       "    .dataframe thead th {\n",
       "        text-align: right;\n",
       "    }\n",
       "</style>\n",
       "<table border=\"1\" class=\"dataframe\">\n",
       "  <thead>\n",
       "    <tr style=\"text-align: right;\">\n",
       "      <th></th>\n",
       "      <th>Temperature(F)</th>\n",
       "      <th>Humidity(%)</th>\n",
       "      <th>Wind speed (mph)</th>\n",
       "      <th>Visibility(miles)</th>\n",
       "      <th>DewPointTemperature(F)</th>\n",
       "      <th>Rainfall(in)</th>\n",
       "      <th>Snowfall(in)</th>\n",
       "      <th>SolarRadiation(MJ/m2)</th>\n",
       "      <th>RENTALS</th>\n",
       "      <th>set</th>\n",
       "      <th>Year</th>\n",
       "      <th>Month</th>\n",
       "      <th>Weekday</th>\n",
       "      <th>Time</th>\n",
       "      <th>Temperature_DewPoint_diff</th>\n",
       "      <th>Humidity_Temp_interaction</th>\n",
       "      <th>Weather_Condition</th>\n",
       "    </tr>\n",
       "    <tr>\n",
       "      <th>ID</th>\n",
       "      <th></th>\n",
       "      <th></th>\n",
       "      <th></th>\n",
       "      <th></th>\n",
       "      <th></th>\n",
       "      <th></th>\n",
       "      <th></th>\n",
       "      <th></th>\n",
       "      <th></th>\n",
       "      <th></th>\n",
       "      <th></th>\n",
       "      <th></th>\n",
       "      <th></th>\n",
       "      <th></th>\n",
       "      <th></th>\n",
       "      <th></th>\n",
       "      <th></th>\n",
       "    </tr>\n",
       "  </thead>\n",
       "  <tbody>\n",
       "    <tr>\n",
       "      <th>mb_1039</th>\n",
       "      <td>52</td>\n",
       "      <td>81</td>\n",
       "      <td>0.4</td>\n",
       "      <td>2.9</td>\n",
       "      <td>46.4</td>\n",
       "      <td>0.0</td>\n",
       "      <td>0.0</td>\n",
       "      <td>0.00</td>\n",
       "      <td>519.0</td>\n",
       "      <td>Not Kaggle</td>\n",
       "      <td>2023</td>\n",
       "      <td>10</td>\n",
       "      <td>5</td>\n",
       "      <td>05:59:54.810000</td>\n",
       "      <td>5.6</td>\n",
       "      <td>4212</td>\n",
       "      <td>2.9</td>\n",
       "    </tr>\n",
       "    <tr>\n",
       "      <th>mb_1330</th>\n",
       "      <td>51</td>\n",
       "      <td>53</td>\n",
       "      <td>2.2</td>\n",
       "      <td>11.7</td>\n",
       "      <td>35.2</td>\n",
       "      <td>0.0</td>\n",
       "      <td>0.0</td>\n",
       "      <td>1.01</td>\n",
       "      <td>1251.0</td>\n",
       "      <td>Not Kaggle</td>\n",
       "      <td>2023</td>\n",
       "      <td>10</td>\n",
       "      <td>3</td>\n",
       "      <td>08:59:53.355000</td>\n",
       "      <td>15.8</td>\n",
       "      <td>2703</td>\n",
       "      <td>11.7</td>\n",
       "    </tr>\n",
       "    <tr>\n",
       "      <th>mb_551</th>\n",
       "      <td>56</td>\n",
       "      <td>49</td>\n",
       "      <td>2.5</td>\n",
       "      <td>3.4</td>\n",
       "      <td>38.8</td>\n",
       "      <td>0.0</td>\n",
       "      <td>0.0</td>\n",
       "      <td>0.00</td>\n",
       "      <td>1685.0</td>\n",
       "      <td>Not Kaggle</td>\n",
       "      <td>2023</td>\n",
       "      <td>9</td>\n",
       "      <td>5</td>\n",
       "      <td>21:59:57.250000</td>\n",
       "      <td>17.2</td>\n",
       "      <td>2744</td>\n",
       "      <td>3.4</td>\n",
       "    </tr>\n",
       "    <tr>\n",
       "      <th>mb_2103</th>\n",
       "      <td>69</td>\n",
       "      <td>32</td>\n",
       "      <td>9.8</td>\n",
       "      <td>12.4</td>\n",
       "      <td>38.7</td>\n",
       "      <td>0.0</td>\n",
       "      <td>0.0</td>\n",
       "      <td>2.36</td>\n",
       "      <td>0.0</td>\n",
       "      <td>Not Kaggle</td>\n",
       "      <td>2023</td>\n",
       "      <td>12</td>\n",
       "      <td>1</td>\n",
       "      <td>14:00:00</td>\n",
       "      <td>30.3</td>\n",
       "      <td>2208</td>\n",
       "      <td>12.4</td>\n",
       "    </tr>\n",
       "    <tr>\n",
       "      <th>mb_1430</th>\n",
       "      <td>53</td>\n",
       "      <td>20</td>\n",
       "      <td>2.9</td>\n",
       "      <td>10.8</td>\n",
       "      <td>12.9</td>\n",
       "      <td>0.0</td>\n",
       "      <td>0.0</td>\n",
       "      <td>1.96</td>\n",
       "      <td>814.0</td>\n",
       "      <td>Not Kaggle</td>\n",
       "      <td>2023</td>\n",
       "      <td>10</td>\n",
       "      <td>0</td>\n",
       "      <td>12:59:52.855000</td>\n",
       "      <td>40.1</td>\n",
       "      <td>1060</td>\n",
       "      <td>10.8</td>\n",
       "    </tr>\n",
       "    <tr>\n",
       "      <th>...</th>\n",
       "      <td>...</td>\n",
       "      <td>...</td>\n",
       "      <td>...</td>\n",
       "      <td>...</td>\n",
       "      <td>...</td>\n",
       "      <td>...</td>\n",
       "      <td>...</td>\n",
       "      <td>...</td>\n",
       "      <td>...</td>\n",
       "      <td>...</td>\n",
       "      <td>...</td>\n",
       "      <td>...</td>\n",
       "      <td>...</td>\n",
       "      <td>...</td>\n",
       "      <td>...</td>\n",
       "      <td>...</td>\n",
       "      <td>...</td>\n",
       "    </tr>\n",
       "    <tr>\n",
       "      <th>mb_729</th>\n",
       "      <td>67</td>\n",
       "      <td>53</td>\n",
       "      <td>3.1</td>\n",
       "      <td>2.3</td>\n",
       "      <td>46.4</td>\n",
       "      <td>0.0</td>\n",
       "      <td>0.0</td>\n",
       "      <td>0.50</td>\n",
       "      <td>NaN</td>\n",
       "      <td>Kaggle</td>\n",
       "      <td>2023</td>\n",
       "      <td>10</td>\n",
       "      <td>6</td>\n",
       "      <td>07:59:56.360000</td>\n",
       "      <td>20.6</td>\n",
       "      <td>3551</td>\n",
       "      <td>2.3</td>\n",
       "    </tr>\n",
       "    <tr>\n",
       "      <th>mb_767</th>\n",
       "      <td>50</td>\n",
       "      <td>55</td>\n",
       "      <td>3.6</td>\n",
       "      <td>12.4</td>\n",
       "      <td>32.4</td>\n",
       "      <td>0.0</td>\n",
       "      <td>0.0</td>\n",
       "      <td>0.00</td>\n",
       "      <td>NaN</td>\n",
       "      <td>Kaggle</td>\n",
       "      <td>2023</td>\n",
       "      <td>10</td>\n",
       "      <td>0</td>\n",
       "      <td>21:59:56.170000</td>\n",
       "      <td>17.6</td>\n",
       "      <td>2750</td>\n",
       "      <td>12.4</td>\n",
       "    </tr>\n",
       "    <tr>\n",
       "      <th>mb_267</th>\n",
       "      <td>45</td>\n",
       "      <td>62</td>\n",
       "      <td>0.4</td>\n",
       "      <td>12.4</td>\n",
       "      <td>34.3</td>\n",
       "      <td>0.0</td>\n",
       "      <td>0.0</td>\n",
       "      <td>0.00</td>\n",
       "      <td>NaN</td>\n",
       "      <td>Kaggle</td>\n",
       "      <td>2023</td>\n",
       "      <td>9</td>\n",
       "      <td>1</td>\n",
       "      <td>01:59:58.670000</td>\n",
       "      <td>10.7</td>\n",
       "      <td>2790</td>\n",
       "      <td>12.4</td>\n",
       "    </tr>\n",
       "    <tr>\n",
       "      <th>mb_1696</th>\n",
       "      <td>66</td>\n",
       "      <td>40</td>\n",
       "      <td>6.7</td>\n",
       "      <td>12.4</td>\n",
       "      <td>39.4</td>\n",
       "      <td>0.0</td>\n",
       "      <td>0.0</td>\n",
       "      <td>1.66</td>\n",
       "      <td>NaN</td>\n",
       "      <td>Kaggle</td>\n",
       "      <td>2023</td>\n",
       "      <td>12</td>\n",
       "      <td>5</td>\n",
       "      <td>15:00:00</td>\n",
       "      <td>26.6</td>\n",
       "      <td>2640</td>\n",
       "      <td>12.4</td>\n",
       "    </tr>\n",
       "    <tr>\n",
       "      <th>mb_1225</th>\n",
       "      <td>68</td>\n",
       "      <td>73</td>\n",
       "      <td>2.7</td>\n",
       "      <td>12.4</td>\n",
       "      <td>58.1</td>\n",
       "      <td>0.0</td>\n",
       "      <td>0.0</td>\n",
       "      <td>0.00</td>\n",
       "      <td>NaN</td>\n",
       "      <td>Kaggle</td>\n",
       "      <td>2023</td>\n",
       "      <td>10</td>\n",
       "      <td>5</td>\n",
       "      <td>23:59:53.880000</td>\n",
       "      <td>9.9</td>\n",
       "      <td>4964</td>\n",
       "      <td>12.4</td>\n",
       "    </tr>\n",
       "  </tbody>\n",
       "</table>\n",
       "<p>2184 rows × 17 columns</p>\n",
       "</div>"
      ],
      "text/plain": [
       "         Temperature(F)  Humidity(%)  Wind speed (mph)  Visibility(miles)  DewPointTemperature(F)  Rainfall(in)  Snowfall(in)  SolarRadiation(MJ/m2)  RENTALS         set  Year  Month  Weekday             Time  Temperature_DewPoint_diff  Humidity_Temp_interaction  Weather_Condition\n",
       "ID                                                                                                                                                                                                                                                                                       \n",
       "mb_1039              52           81               0.4                2.9                    46.4           0.0           0.0                   0.00    519.0  Not Kaggle  2023     10        5  05:59:54.810000                        5.6                       4212                2.9\n",
       "mb_1330              51           53               2.2               11.7                    35.2           0.0           0.0                   1.01   1251.0  Not Kaggle  2023     10        3  08:59:53.355000                       15.8                       2703               11.7\n",
       "mb_551               56           49               2.5                3.4                    38.8           0.0           0.0                   0.00   1685.0  Not Kaggle  2023      9        5  21:59:57.250000                       17.2                       2744                3.4\n",
       "mb_2103              69           32               9.8               12.4                    38.7           0.0           0.0                   2.36      0.0  Not Kaggle  2023     12        1         14:00:00                       30.3                       2208               12.4\n",
       "mb_1430              53           20               2.9               10.8                    12.9           0.0           0.0                   1.96    814.0  Not Kaggle  2023     10        0  12:59:52.855000                       40.1                       1060               10.8\n",
       "...                 ...          ...               ...                ...                     ...           ...           ...                    ...      ...         ...   ...    ...      ...              ...                        ...                        ...                ...\n",
       "mb_729               67           53               3.1                2.3                    46.4           0.0           0.0                   0.50      NaN      Kaggle  2023     10        6  07:59:56.360000                       20.6                       3551                2.3\n",
       "mb_767               50           55               3.6               12.4                    32.4           0.0           0.0                   0.00      NaN      Kaggle  2023     10        0  21:59:56.170000                       17.6                       2750               12.4\n",
       "mb_267               45           62               0.4               12.4                    34.3           0.0           0.0                   0.00      NaN      Kaggle  2023      9        1  01:59:58.670000                       10.7                       2790               12.4\n",
       "mb_1696              66           40               6.7               12.4                    39.4           0.0           0.0                   1.66      NaN      Kaggle  2023     12        5         15:00:00                       26.6                       2640               12.4\n",
       "mb_1225              68           73               2.7               12.4                    58.1           0.0           0.0                   0.00      NaN      Kaggle  2023     10        5  23:59:53.880000                        9.9                       4964               12.4\n",
       "\n",
       "[2184 rows x 17 columns]"
      ]
     },
     "execution_count": 23,
     "metadata": {},
     "output_type": "execute_result"
    }
   ],
   "source": [
    "df_full_data"
   ]
  },
  {
   "cell_type": "code",
   "execution_count": 24,
   "metadata": {},
   "outputs": [],
   "source": [
    "# numeric_features = df_full_data.select_dtypes(include=['int64', 'float64']).columns\n",
    "# scaler = ColumnTransformer(transformers=[('num', StandardScaler(), numeric_features)], remainder='passthrough')\n",
    "\n",
    "# scaled_data = scaler.fit_transform(df_full_data)\n",
    "\n",
    "# df_full_data.fillna(df_full_data.mean(), inplace = True)"
   ]
  },
  {
   "cell_type": "code",
   "execution_count": 25,
   "metadata": {},
   "outputs": [
    {
     "data": {
      "text/plain": [
       "Index(['Temperature(F)', 'Humidity(%)', 'Wind speed (mph)', 'Visibility(miles)', 'DewPointTemperature(F)', 'Rainfall(in)', 'Snowfall(in)', 'SolarRadiation(MJ/m2)', 'RENTALS', 'set', 'Year', 'Month', 'Weekday', 'Time', 'Temperature_DewPoint_diff', 'Humidity_Temp_interaction', 'Weather_Condition'], dtype='object')"
      ]
     },
     "execution_count": 25,
     "metadata": {},
     "output_type": "execute_result"
    }
   ],
   "source": [
    "df_full_data.columns"
   ]
  },
  {
   "cell_type": "code",
   "execution_count": 26,
   "metadata": {},
   "outputs": [
    {
     "data": {
      "text/html": [
       "<div>\n",
       "<style scoped>\n",
       "    .dataframe tbody tr th:only-of-type {\n",
       "        vertical-align: middle;\n",
       "    }\n",
       "\n",
       "    .dataframe tbody tr th {\n",
       "        vertical-align: top;\n",
       "    }\n",
       "\n",
       "    .dataframe thead th {\n",
       "        text-align: right;\n",
       "    }\n",
       "</style>\n",
       "<table border=\"1\" class=\"dataframe\">\n",
       "  <thead>\n",
       "    <tr style=\"text-align: right;\">\n",
       "      <th></th>\n",
       "      <th>Temperature(F)</th>\n",
       "      <th>Humidity(%)</th>\n",
       "      <th>Wind speed (mph)</th>\n",
       "      <th>Visibility(miles)</th>\n",
       "      <th>DewPointTemperature(F)</th>\n",
       "      <th>Rainfall(in)</th>\n",
       "      <th>Snowfall(in)</th>\n",
       "      <th>SolarRadiation(MJ/m2)</th>\n",
       "      <th>RENTALS</th>\n",
       "      <th>set</th>\n",
       "      <th>Year</th>\n",
       "      <th>Month</th>\n",
       "      <th>Weekday</th>\n",
       "      <th>Time</th>\n",
       "      <th>Temperature_DewPoint_diff</th>\n",
       "      <th>Humidity_Temp_interaction</th>\n",
       "      <th>Weather_Condition</th>\n",
       "    </tr>\n",
       "    <tr>\n",
       "      <th>ID</th>\n",
       "      <th></th>\n",
       "      <th></th>\n",
       "      <th></th>\n",
       "      <th></th>\n",
       "      <th></th>\n",
       "      <th></th>\n",
       "      <th></th>\n",
       "      <th></th>\n",
       "      <th></th>\n",
       "      <th></th>\n",
       "      <th></th>\n",
       "      <th></th>\n",
       "      <th></th>\n",
       "      <th></th>\n",
       "      <th></th>\n",
       "      <th></th>\n",
       "      <th></th>\n",
       "    </tr>\n",
       "  </thead>\n",
       "  <tbody>\n",
       "    <tr>\n",
       "      <th>mb_1039</th>\n",
       "      <td>-0.419144</td>\n",
       "      <td>1.165364</td>\n",
       "      <td>-1.422139</td>\n",
       "      <td>-1.975852</td>\n",
       "      <td>0.317032</td>\n",
       "      <td>-0.130085</td>\n",
       "      <td>-0.108634</td>\n",
       "      <td>-0.651443</td>\n",
       "      <td>519.0</td>\n",
       "      <td>Not Kaggle</td>\n",
       "      <td>0.0</td>\n",
       "      <td>-0.209104</td>\n",
       "      <td>0.988788</td>\n",
       "      <td>05:59:54.810000</td>\n",
       "      <td>-1.028230</td>\n",
       "      <td>0.676795</td>\n",
       "      <td>-1.971180</td>\n",
       "    </tr>\n",
       "    <tr>\n",
       "      <th>mb_1330</th>\n",
       "      <td>-0.496912</td>\n",
       "      <td>-0.333392</td>\n",
       "      <td>-0.552855</td>\n",
       "      <td>0.574230</td>\n",
       "      <td>-0.495855</td>\n",
       "      <td>-0.130085</td>\n",
       "      <td>-0.108634</td>\n",
       "      <td>0.612391</td>\n",
       "      <td>1251.0</td>\n",
       "      <td>Not Kaggle</td>\n",
       "      <td>0.0</td>\n",
       "      <td>-0.209104</td>\n",
       "      <td>-0.011218</td>\n",
       "      <td>08:59:53.355000</td>\n",
       "      <td>0.046604</td>\n",
       "      <td>-0.540048</td>\n",
       "      <td>0.575439</td>\n",
       "    </tr>\n",
       "    <tr>\n",
       "      <th>mb_551</th>\n",
       "      <td>-0.108071</td>\n",
       "      <td>-0.547500</td>\n",
       "      <td>-0.407974</td>\n",
       "      <td>-1.830961</td>\n",
       "      <td>-0.234570</td>\n",
       "      <td>-0.130085</td>\n",
       "      <td>-0.108634</td>\n",
       "      <td>-0.651443</td>\n",
       "      <td>1685.0</td>\n",
       "      <td>Not Kaggle</td>\n",
       "      <td>0.0</td>\n",
       "      <td>-1.077321</td>\n",
       "      <td>0.988788</td>\n",
       "      <td>21:59:57.250000</td>\n",
       "      <td>0.194130</td>\n",
       "      <td>-0.506986</td>\n",
       "      <td>-1.826485</td>\n",
       "    </tr>\n",
       "    <tr>\n",
       "      <th>mb_2103</th>\n",
       "      <td>0.902916</td>\n",
       "      <td>-1.457458</td>\n",
       "      <td>3.117455</td>\n",
       "      <td>0.777078</td>\n",
       "      <td>-0.241828</td>\n",
       "      <td>-0.130085</td>\n",
       "      <td>-0.108634</td>\n",
       "      <td>2.301674</td>\n",
       "      <td>0.0</td>\n",
       "      <td>Not Kaggle</td>\n",
       "      <td>0.0</td>\n",
       "      <td>1.527331</td>\n",
       "      <td>-1.011224</td>\n",
       "      <td>14:00:00</td>\n",
       "      <td>1.574554</td>\n",
       "      <td>-0.939211</td>\n",
       "      <td>0.778011</td>\n",
       "    </tr>\n",
       "    <tr>\n",
       "      <th>mb_1430</th>\n",
       "      <td>-0.341375</td>\n",
       "      <td>-2.099782</td>\n",
       "      <td>-0.214800</td>\n",
       "      <td>0.313426</td>\n",
       "      <td>-2.114371</td>\n",
       "      <td>-0.130085</td>\n",
       "      <td>-0.108634</td>\n",
       "      <td>1.801145</td>\n",
       "      <td>814.0</td>\n",
       "      <td>Not Kaggle</td>\n",
       "      <td>0.0</td>\n",
       "      <td>-0.209104</td>\n",
       "      <td>-1.511227</td>\n",
       "      <td>12:59:52.855000</td>\n",
       "      <td>2.607238</td>\n",
       "      <td>-1.864946</td>\n",
       "      <td>0.314990</td>\n",
       "    </tr>\n",
       "  </tbody>\n",
       "</table>\n",
       "</div>"
      ],
      "text/plain": [
       "         Temperature(F)  Humidity(%)  Wind speed (mph)  Visibility(miles)  DewPointTemperature(F)  Rainfall(in)  Snowfall(in)  SolarRadiation(MJ/m2)  RENTALS         set  Year     Month   Weekday             Time  Temperature_DewPoint_diff  Humidity_Temp_interaction  Weather_Condition\n",
       "ID                                                                                                                                                                                                                                                                                           \n",
       "mb_1039       -0.419144     1.165364         -1.422139          -1.975852                0.317032     -0.130085     -0.108634              -0.651443    519.0  Not Kaggle   0.0 -0.209104  0.988788  05:59:54.810000                  -1.028230                   0.676795          -1.971180\n",
       "mb_1330       -0.496912    -0.333392         -0.552855           0.574230               -0.495855     -0.130085     -0.108634               0.612391   1251.0  Not Kaggle   0.0 -0.209104 -0.011218  08:59:53.355000                   0.046604                  -0.540048           0.575439\n",
       "mb_551        -0.108071    -0.547500         -0.407974          -1.830961               -0.234570     -0.130085     -0.108634              -0.651443   1685.0  Not Kaggle   0.0 -1.077321  0.988788  21:59:57.250000                   0.194130                  -0.506986          -1.826485\n",
       "mb_2103        0.902916    -1.457458          3.117455           0.777078               -0.241828     -0.130085     -0.108634               2.301674      0.0  Not Kaggle   0.0  1.527331 -1.011224         14:00:00                   1.574554                  -0.939211           0.778011\n",
       "mb_1430       -0.341375    -2.099782         -0.214800           0.313426               -2.114371     -0.130085     -0.108634               1.801145    814.0  Not Kaggle   0.0 -0.209104 -1.511227  12:59:52.855000                   2.607238                  -1.864946           0.314990"
      ]
     },
     "execution_count": 26,
     "metadata": {},
     "output_type": "execute_result"
    }
   ],
   "source": [
    "editted_features=['Temperature(F)', 'Humidity(%)', 'Wind speed (mph)', 'Visibility(miles)', 'DewPointTemperature(F)', 'Rainfall(in)', 'Snowfall(in)', 'SolarRadiation(MJ/m2)','Year', 'Month', 'Weekday','Temperature_DewPoint_diff', 'Humidity_Temp_interaction', 'Weather_Condition']\n",
    "\n",
    "scaler = StandardScaler()\n",
    "\n",
    "df_full_data[editted_features] = scaler.fit_transform(df_full_data[editted_features])\n",
    "\n",
    "df_full_data.head()"
   ]
  },
  {
   "cell_type": "code",
   "execution_count": 27,
   "metadata": {},
   "outputs": [
    {
     "data": {
      "text/plain": [
       "Index(['Temperature(F)', 'Humidity(%)', 'Wind speed (mph)', 'Visibility(miles)', 'DewPointTemperature(F)', 'Rainfall(in)', 'Snowfall(in)', 'SolarRadiation(MJ/m2)', 'RENTALS', 'set', 'Year', 'Month', 'Weekday', 'Time', 'Temperature_DewPoint_diff', 'Humidity_Temp_interaction', 'Weather_Condition'], dtype='object')"
      ]
     },
     "execution_count": 27,
     "metadata": {},
     "output_type": "execute_result"
    }
   ],
   "source": [
    "df_full_data.columns"
   ]
  },
  {
   "cell_type": "markdown",
   "metadata": {
    "deletable": false,
    "editable": false,
    "run_control": {
     "frozen": true
    }
   },
   "source": [
    "<br><hr style=\"height:.9px;border:none;color:#333;background-color:#333;\" /><br>\n",
    "\n",
    "<h2>Part III: Data Partitioning</h2><br>\n",
    "This is a very important step for your submission on Kaggle. Make sure to complete your data preparationbefore moving forward.\n",
    "<br>\n",
    "<br><h3>Separating the Kaggle Data</h3><br>"
   ]
  },
  {
   "cell_type": "code",
   "execution_count": 28,
   "metadata": {},
   "outputs": [],
   "source": [
    "## parsing out testing data (needed for later) ##\n",
    "\n",
    "# dataset for kaggle\n",
    "kaggle_data = df_full_data[ df_full_data['set'] == 'Kaggle' ].copy()\n",
    "\n",
    "\n",
    "# dataset for model building\n",
    "df = df_full_data[ df_full_data['set'] == 'Not Kaggle' ].copy()\n",
    "\n",
    "\n",
    "# dropping set identifier (kaggle)\n",
    "kaggle_data.drop(labels = 'set',\n",
    "                 axis = 1,\n",
    "                 inplace = True)\n",
    "\n",
    "\n",
    "# dropping set identifier (model building)\n",
    "df.drop(labels = 'set',\n",
    "        axis = 1,\n",
    "        inplace = True)"
   ]
  },
  {
   "cell_type": "code",
   "execution_count": 29,
   "metadata": {},
   "outputs": [
    {
     "data": {
      "text/plain": [
       "Index(['Temperature(F)', 'Humidity(%)', 'Wind speed (mph)', 'Visibility(miles)', 'DewPointTemperature(F)', 'Rainfall(in)', 'Snowfall(in)', 'SolarRadiation(MJ/m2)', 'RENTALS', 'set', 'Year', 'Month', 'Weekday', 'Time', 'Temperature_DewPoint_diff', 'Humidity_Temp_interaction', 'Weather_Condition'], dtype='object')"
      ]
     },
     "execution_count": 29,
     "metadata": {},
     "output_type": "execute_result"
    }
   ],
   "source": [
    "df_full_data.columns"
   ]
  },
  {
   "cell_type": "markdown",
   "metadata": {
    "deletable": false,
    "editable": false,
    "run_control": {
     "frozen": true
    }
   },
   "source": [
    "<br><h3>Train-Test Split</h3><br>\n",
    "Note that the following code will remove non-numeric features, keeping only integer and float data types. It will also remove any observations that contain missing values. This is to prevent errors in the model building process. "
   ]
  },
  {
   "cell_type": "code",
   "execution_count": 30,
   "metadata": {},
   "outputs": [],
   "source": [
    "#!###########################!#\n",
    "#!# choose your x-variables #!#\n",
    "#!###########################!#\n",
    "x_features = ['Temperature(F)', 'Humidity(%)', 'Wind speed (mph)', \n",
    "              'Visibility(miles)', 'DewPointTemperature(F)',\n",
    "              'Rainfall(in)', 'Snowfall(in)', 'SolarRadiation(MJ/m2)',\n",
    "              'Year', 'Month', 'Weekday',\n",
    "              'Time', 'Temperature_DewPoint_diff',\n",
    "              'Humidity_Temp_interaction', 'Weather_Condition'] # this should be a list"
   ]
  },
  {
   "cell_type": "markdown",
   "metadata": {
    "deletable": false,
    "editable": false,
    "run_control": {
     "frozen": true
    }
   },
   "source": [
    "<br>"
   ]
  },
  {
   "cell_type": "code",
   "execution_count": 31,
   "metadata": {
    "deletable": false,
    "editable": false
   },
   "outputs": [
    {
     "name": "stdout",
     "output_type": "stream",
     "text": [
      "\n",
      "Original Dataset Dimensions\n",
      "---------------------------\n",
      "Observations (Rows): 1638\n",
      "Features  (Columns): 16\n",
      "\n",
      "\n",
      "Training Data (X-side)\n",
      "----------------------\n",
      "Observations (Rows): 1228\n",
      "Features  (Columns): 14\n",
      "\n",
      "\n",
      "Training Data (y-side)\n",
      "----------------------\n",
      "Feature Name:        RENTALS\n",
      "Observations (Rows): 1228\n",
      "\n",
      "\n",
      "Testing Data (X-side)\n",
      "---------------------\n",
      "Observations (Rows): 410\n",
      "Features  (Columns): 14\n",
      "\n",
      "\n",
      "Testing Data (y-side)\n",
      "---------------------\n",
      "Feature Name:        RENTALS\n",
      "Observations (Rows): 410\n"
     ]
    }
   ],
   "source": [
    "## ########################### ##\n",
    "## DON'T CHANGE THE CODE BELOW ##\n",
    "## ########################### ##\n",
    "\n",
    "# prepping data for train-test split\n",
    "y_data = df[y_variable]\n",
    "\n",
    "\n",
    "# removing non-numeric columns and missing values\n",
    "x_data = df[x_features].copy().select_dtypes(include=[int, float]).dropna(axis = 1)\n",
    "\n",
    "\n",
    "# storing remaining x_features after the step above\n",
    "x_features = list(x_data.columns)\n",
    "\n",
    "\n",
    "# train-test split (to validate the model)\n",
    "x_train, x_test, y_train, y_test = train_test_split(x_data, \n",
    "                                                    y_data, \n",
    "                                                    test_size    = 0.25,\n",
    "                                                    random_state = 702 )\n",
    "\n",
    "\n",
    "# results of train-test split\n",
    "print(f\"\"\"\n",
    "Original Dataset Dimensions\n",
    "---------------------------\n",
    "Observations (Rows): {df.shape[0]}\n",
    "Features  (Columns): {df.shape[1]}\n",
    "\n",
    "\n",
    "Training Data (X-side)\n",
    "----------------------\n",
    "Observations (Rows): {x_train.shape[0]}\n",
    "Features  (Columns): {x_train.shape[1]}\n",
    "\n",
    "\n",
    "Training Data (y-side)\n",
    "----------------------\n",
    "Feature Name:        {y_train.name}\n",
    "Observations (Rows): {y_train.shape[0]}\n",
    "\n",
    "\n",
    "Testing Data (X-side)\n",
    "---------------------\n",
    "Observations (Rows): {x_test.shape[0]}\n",
    "Features  (Columns): {x_test.shape[1]}\n",
    "\n",
    "\n",
    "Testing Data (y-side)\n",
    "---------------------\n",
    "Feature Name:        {y_test.name}\n",
    "Observations (Rows): {y_test.shape[0]}\"\"\")"
   ]
  },
  {
   "cell_type": "markdown",
   "metadata": {
    "deletable": false,
    "editable": false,
    "run_control": {
     "frozen": true
    }
   },
   "source": [
    "<hr style=\"height:.9px;border:none;color:#333;background-color:#333;\" /><br>\n",
    "\n",
    "<h2>Part III: Candidate Modeling</h2><br>\n",
    "Develop your candidate models below."
   ]
  },
  {
   "cell_type": "markdown",
   "metadata": {},
   "source": [
    "# Candidate Model development\n",
    "Throughout the whole progress having explored , cleaned and analyzed my data I decided to use the KNearestNeighbors model. This model is used to evaluate a diverse set of ML algorithms to predict the problem at hand. In this case I went straight to the hyperprarameters where the model looked into each algorithm using randomized search to validate the training set and tune it for predictions. The model splits the data into a 80-20 split to trian and the rest to test it. As i continued I tracked performance to see overrall accuracy using the AUC and ROC precision rate.\n",
    "\n",
    "Given the strong predictive accuracy, interpretability, and ease of implementation, I selected the KNearestNeighbors model  neighbors, uniform weights, and Euclidean distance metric as the best performing option for the deployment system. This combination of algorithms and hyperparameters maximized generalization performance on new unseen data, in my case the prediction capability of KNN was optimal to the data frame\n",
    "\n"
   ]
  },
  {
   "cell_type": "code",
   "execution_count": 72,
   "metadata": {},
   "outputs": [],
   "source": [
    "## Candidate Modeling ##\n",
    "\n",
    "# naming the model\n",
    "model_name = 'KNNRegressor' # name your model\n",
    "\n",
    "# model type\n",
    "model = sklearn.linear_model=KNeighborsRegressor(algorithm = 'auto',\n",
    "                   n_neighbors = 5)\n"
   ]
  },
  {
   "cell_type": "markdown",
   "metadata": {
    "deletable": false,
    "editable": false,
    "run_control": {
     "frozen": true
    }
   },
   "source": [
    "<br>"
   ]
  },
  {
   "cell_type": "code",
   "execution_count": 73,
   "metadata": {
    "deletable": false,
    "editable": false
   },
   "outputs": [
    {
     "name": "stdout",
     "output_type": "stream",
     "text": [
      "Model Name:     KNNRegressor\n",
      "Train_Score:    0.6283\n",
      "Test_Score:     0.4192\n",
      "Train-Test Gap: 0.2091\n",
      "\n"
     ]
    }
   ],
   "source": [
    "## ########################### ##\n",
    "## DON'T CHANGE THE CODE BELOW ##\n",
    "## ########################### ##\n",
    "\n",
    "# FITTING to the training data\n",
    "model_fit = model.fit(x_train, y_train)\n",
    "\n",
    "\n",
    "# PREDICTING on new data\n",
    "model_pred = model.predict(x_test)\n",
    "\n",
    "\n",
    "# SCORING the results\n",
    "model_train_score = model.score(x_train, y_train).round(4)\n",
    "model_test_score  = model.score(x_test, y_test).round(4)\n",
    "model_gap         = abs(model_train_score - model_test_score).round(4)\n",
    "    \n",
    "\n",
    "# dynamically printing results\n",
    "model_summary =  f\"\"\"\\\n",
    "Model Name:     {model_name}\n",
    "Train_Score:    {model_train_score}\n",
    "Test_Score:     {model_test_score}\n",
    "Train-Test Gap: {model_gap}\n",
    "\"\"\"\n",
    "\n",
    "print(model_summary)"
   ]
  },
  {
   "cell_type": "markdown",
   "metadata": {
    "deletable": false,
    "editable": false,
    "run_control": {
     "frozen": true
    }
   },
   "source": [
    "<br>\n",
    "<h3>Model Results</h3><br>\n",
    "Remember that some models have coefficients, visual outputs, etc. Make sure to analyze relevant results for the models you build."
   ]
  },
  {
   "cell_type": "markdown",
   "metadata": {
    "deletable": false,
    "editable": false,
    "run_control": {
     "frozen": true
    }
   },
   "source": [
    "<br>\n",
    "<h3>Residual Analysis</h3><br>"
   ]
  },
  {
   "cell_type": "code",
   "execution_count": 74,
   "metadata": {},
   "outputs": [
    {
     "data": {
      "text/html": [
       "<div>\n",
       "<style scoped>\n",
       "    .dataframe tbody tr th:only-of-type {\n",
       "        vertical-align: middle;\n",
       "    }\n",
       "\n",
       "    .dataframe tbody tr th {\n",
       "        vertical-align: top;\n",
       "    }\n",
       "\n",
       "    .dataframe thead th {\n",
       "        text-align: right;\n",
       "    }\n",
       "</style>\n",
       "<table border=\"1\" class=\"dataframe\">\n",
       "  <thead>\n",
       "    <tr style=\"text-align: right;\">\n",
       "      <th></th>\n",
       "      <th>True</th>\n",
       "      <th>Predicted</th>\n",
       "    </tr>\n",
       "    <tr>\n",
       "      <th>ID</th>\n",
       "      <th></th>\n",
       "      <th></th>\n",
       "    </tr>\n",
       "  </thead>\n",
       "  <tbody>\n",
       "    <tr>\n",
       "      <th>mb_1509</th>\n",
       "      <td>908.0</td>\n",
       "      <td>808.2</td>\n",
       "    </tr>\n",
       "    <tr>\n",
       "      <th>mb_559</th>\n",
       "      <td>131.0</td>\n",
       "      <td>84.4</td>\n",
       "    </tr>\n",
       "    <tr>\n",
       "      <th>mb_040</th>\n",
       "      <td>1208.0</td>\n",
       "      <td>1099.8</td>\n",
       "    </tr>\n",
       "    <tr>\n",
       "      <th>mb_1346</th>\n",
       "      <td>291.0</td>\n",
       "      <td>591.4</td>\n",
       "    </tr>\n",
       "    <tr>\n",
       "      <th>mb_1463</th>\n",
       "      <td>1433.0</td>\n",
       "      <td>1393.8</td>\n",
       "    </tr>\n",
       "  </tbody>\n",
       "</table>\n",
       "</div>"
      ],
      "text/plain": [
       "           True  Predicted\n",
       "ID                        \n",
       "mb_1509   908.0      808.2\n",
       "mb_559    131.0       84.4\n",
       "mb_040   1208.0     1099.8\n",
       "mb_1346   291.0      591.4\n",
       "mb_1463  1433.0     1393.8"
      ]
     },
     "execution_count": 74,
     "metadata": {},
     "output_type": "execute_result"
    }
   ],
   "source": [
    "## Residual Analysis ##\n",
    "\n",
    "# organizing residuals\n",
    "model_residuals = {\"True\"            : y_test,\n",
    "                   \"Predicted\"       : model_pred\n",
    "                  }\n",
    "\n",
    "\n",
    "# converting residuals into df\n",
    "model_resid_df = pd.DataFrame(data = model_residuals)\n",
    "\n",
    "\n",
    "# checking results\n",
    "model_resid_df.head(n = 5)\n",
    "\n",
    "\n",
    "#!###########################!#\n",
    "#!# add more code as needed #!#\n",
    "#!###########################!#\n",
    "\n"
   ]
  },
  {
   "cell_type": "markdown",
   "metadata": {
    "deletable": false,
    "editable": false,
    "run_control": {
     "frozen": true
    }
   },
   "source": [
    "<br>\n",
    "<h3>Hyperparameter Tuning</h3><br>"
   ]
  },
  {
   "cell_type": "code",
   "execution_count": 75,
   "metadata": {},
   "outputs": [
    {
     "name": "stdout",
     "output_type": "stream",
     "text": [
      "Fitting 5 folds for each of 80 candidates, totalling 400 fits\n",
      "Best Parameters: {'algorithm': 'auto', 'n_neighbors': 3, 'p': 1, 'weights': 'distance'}\n",
      "Best Score (RMSE): 490.3487089459409\n",
      "Test RMSE for KNN Regression: 497.66573510105115\n",
      "Test R^2 for KNN Regression: 0.460032459146146\n"
     ]
    }
   ],
   "source": [
    "## Hyperparameter Tuning ##\n",
    "# Assuming x_train, y_train, x_test, y_test are defined\n",
    "# Initialize the KNN Regressor model\n",
    "knn = KNeighborsRegressor()\n",
    "\n",
    "# Define the parameter grid for KNN\n",
    "param_grid = {\n",
    "    'n_neighbors': [3, 5, 7, 10, 15],  # Number of neighbors to use\n",
    "    'weights': ['uniform', 'distance'],  # Weight function used in prediction\n",
    "    'algorithm': ['auto', 'ball_tree', 'kd_tree', 'brute'],  # Algorithm used to compute the nearest neighbors\n",
    "    'p': [1, 2]  # Power parameter for the Minkowski metric\n",
    "}\n",
    "\n",
    "# Instantiate the GridSearchCV object for KNN Regression\n",
    "grid_search_knn = GridSearchCV(estimator=knn, param_grid=param_grid, cv=5, scoring='neg_mean_squared_error', verbose=1, n_jobs=-1)\n",
    "\n",
    "# Fit the grid search to the data\n",
    "grid_search_knn.fit(x_train, y_train)\n",
    "\n",
    "# Best parameters and score\n",
    "print(\"Best Parameters:\", grid_search_knn.best_params_)\n",
    "print(\"Best Score (RMSE):\", np.sqrt(-grid_search_knn.best_score_))\n",
    "\n",
    "# Predicting with the best model\n",
    "best_knn = grid_search_knn.best_estimator_\n",
    "y_pred_knn = best_knn.predict(x_test)\n",
    "\n",
    "# Evaluation\n",
    "mse_knn = mean_squared_error(y_test, y_pred_knn)\n",
    "rmse_knn = np.sqrt(mse_knn)\n",
    "r2_knn = r2_score(y_test, y_pred_knn)\n",
    "\n",
    "print(f\"Test RMSE for KNN Regression: {rmse_knn}\")\n",
    "print(f\"Test R^2 for KNN Regression: {r2_knn}\")\n"
   ]
  },
  {
   "cell_type": "markdown",
   "metadata": {
    "deletable": false,
    "editable": false,
    "run_control": {
     "frozen": true
    }
   },
   "source": [
    "<hr style=\"height:.9px;border:none;color:#333;background-color:#333;\" /><br>\n",
    "\n",
    "<h2>Part IV: Preparing Submission File for Kaggle</h2><br>\n",
    "The code below will store the predicted values for each of the models above."
   ]
  },
  {
   "cell_type": "code",
   "execution_count": 76,
   "metadata": {},
   "outputs": [],
   "source": [
    "# x-data\n",
    "x_data_kaggle = kaggle_data[x_features].copy()\n",
    "\n",
    "# y-data\n",
    "y_data_kaggle = kaggle_data[y_variable]\n",
    "\n",
    "\n",
    "# Fitting model from above to the Kaggle test data\n",
    "kaggle_predictions = model.predict(x_data_kaggle)"
   ]
  },
  {
   "cell_type": "markdown",
   "metadata": {
    "deletable": false,
    "editable": false,
    "run_control": {
     "frozen": true
    }
   },
   "source": [
    "<br>\n",
    "<h3>Creating the Kaggle File</h3><br>"
   ]
  },
  {
   "cell_type": "code",
   "execution_count": 77,
   "metadata": {
    "deletable": false,
    "editable": false
   },
   "outputs": [],
   "source": [
    "## Kaggle Submission File ##\n",
    "\n",
    "# organizing predictions\n",
    "model_predictions = {\"RENTALS\" : kaggle_predictions}\n",
    "\n",
    "\n",
    "# converting predictions into df\n",
    "model_pred_df = pd.DataFrame(data  = model_predictions,\n",
    "                             index = df_test.index)"
   ]
  },
  {
   "cell_type": "markdown",
   "metadata": {
    "deletable": false,
    "editable": false,
    "run_control": {
     "frozen": true
    }
   },
   "source": [
    "<br>"
   ]
  },
  {
   "cell_type": "code",
   "execution_count": 78,
   "metadata": {},
   "outputs": [],
   "source": [
    "#!######################!#\n",
    "#!# name the .csv file #!#\n",
    "#!######################!#\n",
    "\n",
    "# name your model\n",
    "model_pred_df.to_csv(path_or_buf = \"./model_output/KNNtrial.csv\",\n",
    "                     index       = True,\n",
    "                     index_label = 'ID')"
   ]
  },
  {
   "cell_type": "code",
   "execution_count": 79,
   "metadata": {},
   "outputs": [
    {
     "data": {
      "text/html": [
       "<div>\n",
       "<style scoped>\n",
       "    .dataframe tbody tr th:only-of-type {\n",
       "        vertical-align: middle;\n",
       "    }\n",
       "\n",
       "    .dataframe tbody tr th {\n",
       "        vertical-align: top;\n",
       "    }\n",
       "\n",
       "    .dataframe thead th {\n",
       "        text-align: right;\n",
       "    }\n",
       "</style>\n",
       "<table border=\"1\" class=\"dataframe\">\n",
       "  <thead>\n",
       "    <tr style=\"text-align: right;\">\n",
       "      <th></th>\n",
       "      <th>RENTALS</th>\n",
       "    </tr>\n",
       "    <tr>\n",
       "      <th>ID</th>\n",
       "      <th></th>\n",
       "    </tr>\n",
       "  </thead>\n",
       "  <tbody>\n",
       "    <tr>\n",
       "      <th>mb_382</th>\n",
       "      <td>921.0</td>\n",
       "    </tr>\n",
       "    <tr>\n",
       "      <th>mb_547</th>\n",
       "      <td>1726.8</td>\n",
       "    </tr>\n",
       "    <tr>\n",
       "      <th>mb_578</th>\n",
       "      <td>75.8</td>\n",
       "    </tr>\n",
       "    <tr>\n",
       "      <th>mb_187</th>\n",
       "      <td>1581.2</td>\n",
       "    </tr>\n",
       "    <tr>\n",
       "      <th>mb_227</th>\n",
       "      <td>957.6</td>\n",
       "    </tr>\n",
       "    <tr>\n",
       "      <th>mb_476</th>\n",
       "      <td>1860.0</td>\n",
       "    </tr>\n",
       "    <tr>\n",
       "      <th>mb_395</th>\n",
       "      <td>1723.8</td>\n",
       "    </tr>\n",
       "    <tr>\n",
       "      <th>mb_520</th>\n",
       "      <td>1191.8</td>\n",
       "    </tr>\n",
       "    <tr>\n",
       "      <th>mb_1156</th>\n",
       "      <td>591.4</td>\n",
       "    </tr>\n",
       "    <tr>\n",
       "      <th>mb_2121</th>\n",
       "      <td>529.8</td>\n",
       "    </tr>\n",
       "  </tbody>\n",
       "</table>\n",
       "</div>"
      ],
      "text/plain": [
       "         RENTALS\n",
       "ID              \n",
       "mb_382     921.0\n",
       "mb_547    1726.8\n",
       "mb_578      75.8\n",
       "mb_187    1581.2\n",
       "mb_227     957.6\n",
       "mb_476    1860.0\n",
       "mb_395    1723.8\n",
       "mb_520    1191.8\n",
       "mb_1156    591.4\n",
       "mb_2121    529.8"
      ]
     },
     "execution_count": 79,
     "metadata": {},
     "output_type": "execute_result"
    }
   ],
   "source": [
    "model_pred_df.head(10)"
   ]
  },
  {
   "cell_type": "markdown",
   "metadata": {
    "deletable": false,
    "editable": false,
    "run_control": {
     "frozen": true
    }
   },
   "source": [
    "<br>"
   ]
  },
  {
   "cell_type": "markdown",
   "metadata": {
    "deletable": false,
    "editable": false,
    "run_control": {
     "frozen": true
    }
   },
   "source": [
    "<hr style=\"height:.9px;border:none;color:#333;background-color:#333;\" /><br>\n",
    "\n",
    "~~~\n",
    "\n",
    "  _    _                           __  __           _      _ _             _ \n",
    " | |  | |                         |  \\/  |         | |    | (_)           | |\n",
    " | |__| | __ _ _ __  _ __  _   _  | \\  / | ___   __| | ___| |_ _ __   __ _| |\n",
    " |  __  |/ _` | '_ \\| '_ \\| | | | | |\\/| |/ _ \\ / _` |/ _ \\ | | '_ \\ / _` | |\n",
    " | |  | | (_| | |_) | |_) | |_| | | |  | | (_) | (_| |  __/ | | | | | (_| |_|\n",
    " |_|  |_|\\__,_| .__/| .__/ \\__, | |_|  |_|\\___/ \\__,_|\\___|_|_|_| |_|\\__, (_)\n",
    "              | |   | |     __/ |                                     __/ |  \n",
    "              |_|   |_|    |___/                                     |___/   \n",
    "\n",
    "                                                            \n",
    "\n",
    "~~~\n",
    "\n",
    "<hr style=\"height:.9px;border:none;color:#333;background-color:#333;\" />"
   ]
  },
  {
   "cell_type": "markdown",
   "metadata": {
    "deletable": false,
    "editable": false,
    "run_control": {
     "frozen": true
    }
   },
   "source": [
    "<br>"
   ]
  }
 ],
 "metadata": {
  "kernelspec": {
   "display_name": "Python 3 (ipykernel)",
   "language": "python",
   "name": "python3"
  },
  "language_info": {
   "codemirror_mode": {
    "name": "ipython",
    "version": 3
   },
   "file_extension": ".py",
   "mimetype": "text/x-python",
   "name": "python",
   "nbconvert_exporter": "python",
   "pygments_lexer": "ipython3",
   "version": "3.11.5"
  },
  "toc": {
   "base_numbering": 1,
   "nav_menu": {},
   "number_sections": false,
   "sideBar": true,
   "skip_h1_title": false,
   "title_cell": "Table of Contents",
   "title_sidebar": "Contents",
   "toc_cell": false,
   "toc_position": {
    "height": "calc(100% - 180px)",
    "left": "10px",
    "top": "150px",
    "width": "288px"
   },
   "toc_section_display": true,
   "toc_window_display": false
  },
  "varInspector": {
   "cols": {
    "lenName": 16,
    "lenType": 16,
    "lenVar": 40
   },
   "kernels_config": {
    "python": {
     "delete_cmd_postfix": "",
     "delete_cmd_prefix": "del ",
     "library": "var_list.py",
     "varRefreshCmd": "print(var_dic_list())"
    },
    "r": {
     "delete_cmd_postfix": ") ",
     "delete_cmd_prefix": "rm(",
     "library": "var_list.r",
     "varRefreshCmd": "cat(var_dic_list()) "
    }
   },
   "types_to_exclude": [
    "module",
    "function",
    "builtin_function_or_method",
    "instance",
    "_Feature"
   ],
   "window_display": false
  }
 },
 "nbformat": 4,
 "nbformat_minor": 2
}
